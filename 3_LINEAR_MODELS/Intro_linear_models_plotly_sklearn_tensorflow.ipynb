{
 "cells": [
  {
   "cell_type": "markdown",
   "metadata": {},
   "source": [
    "# Introduction aux modèles linéaires de Machine Learning avec Python"
   ]
  },
  {
   "cell_type": "markdown",
   "metadata": {},
   "source": [
    "## Objectif\n",
    "Ce notebook vise à illustrer certains aspects de la construction des modèles linéaires avec et sans `scikit-learn`"
   ]
  },
  {
   "cell_type": "markdown",
   "metadata": {},
   "source": [
    "## Un exemple sans `scikit-learn`"
   ]
  },
  {
   "cell_type": "markdown",
   "metadata": {},
   "source": [
    "On va traiter un problème jouet extrêmement simple, on va chercher à modéliser la relation entre $X$ et $Y$ avec"
   ]
  },
  {
   "cell_type": "markdown",
   "metadata": {},
   "source": [
    "$$ Y = 2 \\times X + 4 $$"
   ]
  },
  {
   "cell_type": "markdown",
   "metadata": {},
   "source": [
    "Pour compliquer un peu, on va ajouter un bruit gaussien aux données de sortie (dans un premier temps)"
   ]
  },
  {
   "cell_type": "markdown",
   "metadata": {},
   "source": [
    "On commence par charger les modules nécessaires"
   ]
  },
  {
   "cell_type": "code",
   "execution_count": 1,
   "metadata": {},
   "outputs": [],
   "source": [
    "from plotly import __version__\n",
    "from plotly.offline import download_plotlyjs, init_notebook_mode, plot, iplot"
   ]
  },
  {
   "cell_type": "markdown",
   "metadata": {},
   "source": [
    "`plotly` permet de tracer des graphiques interactifs, depuis quelque temps, on peut en profiter dans les notebook Jupyter"
   ]
  },
  {
   "cell_type": "code",
   "execution_count": 2,
   "metadata": {},
   "outputs": [],
   "source": [
    "from plotly.graph_objs import Scatter, Figure, Layout"
   ]
  },
  {
   "cell_type": "code",
   "execution_count": 6,
   "metadata": {},
   "outputs": [
    {
     "data": {
      "text/html": [
       "<script>requirejs.config({paths: { 'plotly': ['https://cdn.plot.ly/plotly-latest.min']},});if(!window.Plotly) {{require(['plotly'],function(plotly) {window.Plotly=plotly;});}}</script>"
      ],
      "text/vnd.plotly.v1+html": [
       "<script>requirejs.config({paths: { 'plotly': ['https://cdn.plot.ly/plotly-latest.min']},});if(!window.Plotly) {{require(['plotly'],function(plotly) {window.Plotly=plotly;});}}</script>"
      ]
     },
     "metadata": {},
     "output_type": "display_data"
    }
   ],
   "source": [
    "init_notebook_mode(connected=True)\n",
    "import numpy as np\n",
    "X = np.random.random(10)\n",
    "Y = 2*X+1+0.2*np.random.randn(10)"
   ]
  },
  {
   "cell_type": "code",
   "execution_count": 9,
   "metadata": {},
   "outputs": [
    {
     "data": {
      "application/vnd.plotly.v1+json": {
       "data": [
        {
         "marker": {
          "size": "13"
         },
         "mode": "markers",
         "name": "Sample Data",
         "type": "scatter",
         "x": [
          0.5655529133972945,
          0.35330441734874096,
          0.8815955326126153,
          0.36525832891338594,
          0.6888626850020487,
          0.7419354800210213,
          0.6576119482160567,
          0.7787389052962805,
          0.9628374395432069,
          0.24825177836590018
         ],
         "y": [
          2.030840346724435,
          1.878606021088533,
          3.1194909944107514,
          1.7582745106437203,
          2.3877722433645086,
          2.41469689361679,
          2.395027382751086,
          2.4253903368950347,
          2.8832913997417475,
          1.579780657065328
         ]
        }
       ],
       "layout": {
        "xaxis": {
         "title": "Variable X"
        },
        "yaxis": {
         "title": "Variable Y"
        }
       }
      },
      "text/html": [
       "<div id=\"24cb0b19-5bfa-408e-bdc0-75f2b37971e3\" style=\"height: 525px; width: 100%;\" class=\"plotly-graph-div\"></div><script type=\"text/javascript\">require([\"plotly\"], function(Plotly) { window.PLOTLYENV=window.PLOTLYENV || {};window.PLOTLYENV.BASE_URL=\"https://plot.ly\";Plotly.newPlot(\"24cb0b19-5bfa-408e-bdc0-75f2b37971e3\", [{\"type\": \"scatter\", \"x\": [0.5655529133972945, 0.35330441734874096, 0.8815955326126153, 0.36525832891338594, 0.6888626850020487, 0.7419354800210213, 0.6576119482160567, 0.7787389052962805, 0.9628374395432069, 0.24825177836590018], \"y\": [2.030840346724435, 1.878606021088533, 3.1194909944107514, 1.7582745106437203, 2.3877722433645086, 2.41469689361679, 2.395027382751086, 2.4253903368950347, 2.8832913997417475, 1.579780657065328], \"mode\": \"markers\", \"marker\": {\"size\": \"13\"}, \"name\": \"Sample Data\"}], {\"xaxis\": {\"title\": \"Variable X\"}, \"yaxis\": {\"title\": \"Variable Y\"}}, {\"showLink\": true, \"linkText\": \"Export to plot.ly\"})});</script>"
      ],
      "text/vnd.plotly.v1+html": [
       "<div id=\"24cb0b19-5bfa-408e-bdc0-75f2b37971e3\" style=\"height: 525px; width: 100%;\" class=\"plotly-graph-div\"></div><script type=\"text/javascript\">require([\"plotly\"], function(Plotly) { window.PLOTLYENV=window.PLOTLYENV || {};window.PLOTLYENV.BASE_URL=\"https://plot.ly\";Plotly.newPlot(\"24cb0b19-5bfa-408e-bdc0-75f2b37971e3\", [{\"type\": \"scatter\", \"x\": [0.5655529133972945, 0.35330441734874096, 0.8815955326126153, 0.36525832891338594, 0.6888626850020487, 0.7419354800210213, 0.6576119482160567, 0.7787389052962805, 0.9628374395432069, 0.24825177836590018], \"y\": [2.030840346724435, 1.878606021088533, 3.1194909944107514, 1.7582745106437203, 2.3877722433645086, 2.41469689361679, 2.395027382751086, 2.4253903368950347, 2.8832913997417475, 1.579780657065328], \"mode\": \"markers\", \"marker\": {\"size\": \"13\"}, \"name\": \"Sample Data\"}], {\"xaxis\": {\"title\": \"Variable X\"}, \"yaxis\": {\"title\": \"Variable Y\"}}, {\"showLink\": true, \"linkText\": \"Export to plot.ly\"})});</script>"
      ]
     },
     "metadata": {},
     "output_type": "display_data"
    }
   ],
   "source": [
    "trace = Scatter(\n",
    "    x=X,\n",
    "    y=Y,\n",
    "    mode='markers',\n",
    "    marker=dict(size='13'),\n",
    "    name=\"Sample Data\",\n",
    ")\n",
    "\n",
    "fig = dict(data=[trace], layout={})\n",
    "fig['layout']['xaxis'] = dict(title='Variable X')\n",
    "fig['layout']['yaxis'] = dict(title='Variable Y')\n",
    "\n",
    "iplot(fig)"
   ]
  },
  {
   "cell_type": "markdown",
   "metadata": {},
   "source": [
    "Maintenant nous créons la matrice des observations "
   ]
  },
  {
   "cell_type": "code",
   "execution_count": 12,
   "metadata": {
    "collapsed": true
   },
   "outputs": [],
   "source": [
    "M = np.ones([len(X),2])\n",
    "M[:,1] = X"
   ]
  },
  {
   "cell_type": "code",
   "execution_count": 13,
   "metadata": {},
   "outputs": [
    {
     "data": {
      "text/plain": [
       "array([[ 1.        ,  0.56555291],\n",
       "       [ 1.        ,  0.35330442],\n",
       "       [ 1.        ,  0.88159553],\n",
       "       [ 1.        ,  0.36525833],\n",
       "       [ 1.        ,  0.68886269],\n",
       "       [ 1.        ,  0.74193548],\n",
       "       [ 1.        ,  0.65761195],\n",
       "       [ 1.        ,  0.77873891],\n",
       "       [ 1.        ,  0.96283744],\n",
       "       [ 1.        ,  0.24825178]])"
      ]
     },
     "execution_count": 13,
     "metadata": {},
     "output_type": "execute_result"
    }
   ],
   "source": [
    "M"
   ]
  },
  {
   "cell_type": "markdown",
   "metadata": {},
   "source": [
    "et nous résolvons le problème aux moindres carrés"
   ]
  },
  {
   "cell_type": "markdown",
   "metadata": {},
   "source": [
    "$$ min_{\\alpha, \\beta} ||MA-Y||_2^2$$"
   ]
  },
  {
   "cell_type": "markdown",
   "metadata": {},
   "source": [
    "où $A = [\\alpha,\\beta]$"
   ]
  },
  {
   "cell_type": "code",
   "execution_count": 17,
   "metadata": {},
   "outputs": [],
   "source": [
    "a, b = np.linalg.lstsq(M,Y)[0]"
   ]
  },
  {
   "cell_type": "code",
   "execution_count": 18,
   "metadata": {},
   "outputs": [
    {
     "data": {
      "text/plain": [
       "1.0718415195568485"
      ]
     },
     "execution_count": 18,
     "metadata": {},
     "output_type": "execute_result"
    }
   ],
   "source": [
    "a"
   ]
  },
  {
   "cell_type": "code",
   "execution_count": 19,
   "metadata": {},
   "outputs": [
    {
     "data": {
      "text/plain": [
       "1.9466454252227781"
      ]
     },
     "execution_count": 19,
     "metadata": {},
     "output_type": "execute_result"
    }
   ],
   "source": [
    "b"
   ]
  },
  {
   "cell_type": "markdown",
   "metadata": {},
   "source": [
    "*Note* : On utilise ici la méthode `lstsq` de `numpy` qui est précisément faite pour les problèmes aux moindres carrés"
   ]
  },
  {
   "cell_type": "markdown",
   "metadata": {},
   "source": [
    "On trace maintenant la solution."
   ]
  },
  {
   "cell_type": "code",
   "execution_count": 20,
   "metadata": {},
   "outputs": [
    {
     "data": {
      "application/vnd.plotly.v1+json": {
       "data": [
        {
         "marker": {
          "size": "13"
         },
         "mode": "markers",
         "name": "Sample Data",
         "type": "scatter",
         "x": [
          0.5655529133972945,
          0.35330441734874096,
          0.8815955326126153,
          0.36525832891338594,
          0.6888626850020487,
          0.7419354800210213,
          0.6576119482160567,
          0.7787389052962805,
          0.9628374395432069,
          0.24825177836590018
         ],
         "y": [
          2.030840346724435,
          1.878606021088533,
          3.1194909944107514,
          1.7582745106437203,
          2.3877722433645086,
          2.41469689361679,
          2.395027382751086,
          2.4253903368950347,
          2.8832913997417475,
          1.579780657065328
         ]
        },
        {
         "line": {
          "width": 4
         },
         "mode": "lines",
         "name": "Ordinary Least Squares",
         "type": "scatter",
         "x": [
          0,
          0.5,
          1
         ],
         "y": [
          1.0718415195568485,
          2.0451642321682373,
          3.0184869447796263
         ]
        }
       ],
       "layout": {
        "xaxis": {
         "title": "Variable X"
        },
        "yaxis": {
         "title": "Variable Y"
        }
       }
      },
      "text/html": [
       "<div id=\"33e0b846-799e-4e75-bc2f-60d8c3d1af83\" style=\"height: 525px; width: 100%;\" class=\"plotly-graph-div\"></div><script type=\"text/javascript\">require([\"plotly\"], function(Plotly) { window.PLOTLYENV=window.PLOTLYENV || {};window.PLOTLYENV.BASE_URL=\"https://plot.ly\";Plotly.newPlot(\"33e0b846-799e-4e75-bc2f-60d8c3d1af83\", [{\"type\": \"scatter\", \"x\": [0.5655529133972945, 0.35330441734874096, 0.8815955326126153, 0.36525832891338594, 0.6888626850020487, 0.7419354800210213, 0.6576119482160567, 0.7787389052962805, 0.9628374395432069, 0.24825177836590018], \"y\": [2.030840346724435, 1.878606021088533, 3.1194909944107514, 1.7582745106437203, 2.3877722433645086, 2.41469689361679, 2.395027382751086, 2.4253903368950347, 2.8832913997417475, 1.579780657065328], \"mode\": \"markers\", \"marker\": {\"size\": \"13\"}, \"name\": \"Sample Data\"}, {\"type\": \"scatter\", \"x\": [0.0, 0.5, 1.0], \"y\": [1.0718415195568485, 2.0451642321682373, 3.0184869447796263], \"mode\": \"lines\", \"line\": {\"width\": 4}, \"name\": \"Ordinary Least Squares\"}], {\"xaxis\": {\"title\": \"Variable X\"}, \"yaxis\": {\"title\": \"Variable Y\"}}, {\"showLink\": true, \"linkText\": \"Export to plot.ly\"})});</script>"
      ],
      "text/vnd.plotly.v1+html": [
       "<div id=\"33e0b846-799e-4e75-bc2f-60d8c3d1af83\" style=\"height: 525px; width: 100%;\" class=\"plotly-graph-div\"></div><script type=\"text/javascript\">require([\"plotly\"], function(Plotly) { window.PLOTLYENV=window.PLOTLYENV || {};window.PLOTLYENV.BASE_URL=\"https://plot.ly\";Plotly.newPlot(\"33e0b846-799e-4e75-bc2f-60d8c3d1af83\", [{\"type\": \"scatter\", \"x\": [0.5655529133972945, 0.35330441734874096, 0.8815955326126153, 0.36525832891338594, 0.6888626850020487, 0.7419354800210213, 0.6576119482160567, 0.7787389052962805, 0.9628374395432069, 0.24825177836590018], \"y\": [2.030840346724435, 1.878606021088533, 3.1194909944107514, 1.7582745106437203, 2.3877722433645086, 2.41469689361679, 2.395027382751086, 2.4253903368950347, 2.8832913997417475, 1.579780657065328], \"mode\": \"markers\", \"marker\": {\"size\": \"13\"}, \"name\": \"Sample Data\"}, {\"type\": \"scatter\", \"x\": [0.0, 0.5, 1.0], \"y\": [1.0718415195568485, 2.0451642321682373, 3.0184869447796263], \"mode\": \"lines\", \"line\": {\"width\": 4}, \"name\": \"Ordinary Least Squares\"}], {\"xaxis\": {\"title\": \"Variable X\"}, \"yaxis\": {\"title\": \"Variable Y\"}}, {\"showLink\": true, \"linkText\": \"Export to plot.ly\"})});</script>"
      ]
     },
     "metadata": {},
     "output_type": "display_data"
    }
   ],
   "source": [
    "x_gr = np.linspace(0,1,3)\n",
    "y_gr = b*x_gr+a\n",
    "trace = Scatter(\n",
    "    x=X,\n",
    "    y=Y,\n",
    "    mode='markers',\n",
    "    marker=dict(size='13'),\n",
    "    name=\"Sample Data\",\n",
    ")\n",
    "trace2 = Scatter(\n",
    "    x=x_gr,\n",
    "    y=y_gr,\n",
    "    mode='lines',\n",
    "    line=dict(width=4),\n",
    "    name=\"Ordinary Least Squares\"\n",
    ")\n",
    "fig = dict(data=[trace,trace2], layout={})\n",
    "fig['layout']['xaxis'] = dict(title='Variable X')\n",
    "fig['layout']['yaxis'] = dict(title='Variable Y')\n",
    "\n",
    "iplot(fig)"
   ]
  },
  {
   "cell_type": "code",
   "execution_count": null,
   "metadata": {
    "collapsed": true
   },
   "outputs": [],
   "source": []
  }
 ],
 "metadata": {
  "kernelspec": {
   "display_name": "Python 3",
   "language": "python",
   "name": "python3"
  },
  "language_info": {
   "codemirror_mode": {
    "name": "ipython",
    "version": 3
   },
   "file_extension": ".py",
   "mimetype": "text/x-python",
   "name": "python",
   "nbconvert_exporter": "python",
   "pygments_lexer": "ipython3",
   "version": "3.6.3"
  }
 },
 "nbformat": 4,
 "nbformat_minor": 2
}
