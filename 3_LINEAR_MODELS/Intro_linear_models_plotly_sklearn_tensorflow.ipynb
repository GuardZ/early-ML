{
 "cells": [
  {
   "cell_type": "markdown",
   "metadata": {},
   "source": [
    "# Introduction aux modèles linéaires de Machine Learning avec Python"
   ]
  },
  {
   "cell_type": "markdown",
   "metadata": {},
   "source": [
    "## Objectif\n",
    "Ce notebook vise à illustrer certains aspects de la construction des modèles linéaires avec et sans `scikit-learn`"
   ]
  },
  {
   "cell_type": "markdown",
   "metadata": {},
   "source": [
    "## Un exemple sans `scikit-learn`"
   ]
  },
  {
   "cell_type": "markdown",
   "metadata": {},
   "source": [
    "On va traiter un problème jouet extrêmement simple, on va chercher à modéliser la relation entre $X$ et $Y$ avec"
   ]
  },
  {
   "cell_type": "markdown",
   "metadata": {},
   "source": [
    "$$ Y = 2 \\times X + 4 $$"
   ]
  },
  {
   "cell_type": "markdown",
   "metadata": {},
   "source": [
    "Pour compliquer un peu, on va ajouter un bruit gaussien aux données de sortie (dans un premier temps)"
   ]
  },
  {
   "cell_type": "markdown",
   "metadata": {},
   "source": [
    "On commence par charger les modules nécessaires"
   ]
  },
  {
   "cell_type": "code",
   "execution_count": 3,
   "metadata": {
    "collapsed": true
   },
   "outputs": [],
   "source": [
    "from plotly import __version__\n",
    "from plotly.offline import download_plotlyjs, init_notebook_mode, plot, iplot"
   ]
  },
  {
   "cell_type": "markdown",
   "metadata": {},
   "source": [
    "`plotly` permet de tracer des graphiques interactifs, depuis quelque temps, on peut en profiter dans les notebook Jupyter"
   ]
  },
  {
   "cell_type": "code",
   "execution_count": 4,
   "metadata": {
    "collapsed": true
   },
   "outputs": [],
   "source": [
    "from plotly.graph_objs import Scatter, Figure, Layout"
   ]
  },
  {
   "cell_type": "code",
   "execution_count": 6,
   "metadata": {},
   "outputs": [
    {
     "data": {
      "text/html": [
       "<script>requirejs.config({paths: { 'plotly': ['https://cdn.plot.ly/plotly-latest.min']},});if(!window.Plotly) {{require(['plotly'],function(plotly) {window.Plotly=plotly;});}}</script>"
      ],
      "text/vnd.plotly.v1+html": [
       "<script>requirejs.config({paths: { 'plotly': ['https://cdn.plot.ly/plotly-latest.min']},});if(!window.Plotly) {{require(['plotly'],function(plotly) {window.Plotly=plotly;});}}</script>"
      ]
     },
     "metadata": {},
     "output_type": "display_data"
    }
   ],
   "source": [
    "init_notebook_mode(connected=True)\n",
    "import numpy as np\n",
    "X = np.random.random(10)\n",
    "Y = 2*X+1+0.2*np.random.randn(10)"
   ]
  },
  {
   "cell_type": "code",
   "execution_count": 7,
   "metadata": {},
   "outputs": [
    {
     "data": {
      "application/vnd.plotly.v1+json": {
       "data": [
        {
         "marker": {
          "size": "13"
         },
         "mode": "markers",
         "name": "Sample Data",
         "type": "scatter",
         "x": [
          0.5354654250763787,
          0.0927137260028641,
          0.9064317864915592,
          0.4420150652140937,
          0.009372428217464646,
          0.27179299681319335,
          0.7124592953235128,
          0.6520238972527373,
          0.019587658745970238,
          0.2619947407201384
         ],
         "y": [
          2.1574231633900105,
          1.5770946160479424,
          2.854919492910132,
          1.5721815431040103,
          0.9669775775848023,
          1.4627247372367576,
          2.421704063183064,
          2.148907626832586,
          1.1516699331638203,
          1.3439130777633106
         ]
        }
       ],
       "layout": {
        "xaxis": {
         "title": "Variable X"
        },
        "yaxis": {
         "title": "Variable Y"
        }
       }
      },
      "text/html": [
       "<div id=\"5e0b5447-585d-469e-9c3f-4d16a57531e4\" style=\"height: 525px; width: 100%;\" class=\"plotly-graph-div\"></div><script type=\"text/javascript\">require([\"plotly\"], function(Plotly) { window.PLOTLYENV=window.PLOTLYENV || {};window.PLOTLYENV.BASE_URL=\"https://plot.ly\";Plotly.newPlot(\"5e0b5447-585d-469e-9c3f-4d16a57531e4\", [{\"type\": \"scatter\", \"x\": [0.5354654250763787, 0.0927137260028641, 0.9064317864915592, 0.4420150652140937, 0.009372428217464646, 0.27179299681319335, 0.7124592953235128, 0.6520238972527373, 0.019587658745970238, 0.2619947407201384], \"y\": [2.1574231633900105, 1.5770946160479424, 2.854919492910132, 1.5721815431040103, 0.9669775775848023, 1.4627247372367576, 2.421704063183064, 2.148907626832586, 1.1516699331638203, 1.3439130777633106], \"mode\": \"markers\", \"marker\": {\"size\": \"13\"}, \"name\": \"Sample Data\"}], {\"xaxis\": {\"title\": \"Variable X\"}, \"yaxis\": {\"title\": \"Variable Y\"}}, {\"showLink\": true, \"linkText\": \"Export to plot.ly\"})});</script>"
      ],
      "text/vnd.plotly.v1+html": [
       "<div id=\"5e0b5447-585d-469e-9c3f-4d16a57531e4\" style=\"height: 525px; width: 100%;\" class=\"plotly-graph-div\"></div><script type=\"text/javascript\">require([\"plotly\"], function(Plotly) { window.PLOTLYENV=window.PLOTLYENV || {};window.PLOTLYENV.BASE_URL=\"https://plot.ly\";Plotly.newPlot(\"5e0b5447-585d-469e-9c3f-4d16a57531e4\", [{\"type\": \"scatter\", \"x\": [0.5354654250763787, 0.0927137260028641, 0.9064317864915592, 0.4420150652140937, 0.009372428217464646, 0.27179299681319335, 0.7124592953235128, 0.6520238972527373, 0.019587658745970238, 0.2619947407201384], \"y\": [2.1574231633900105, 1.5770946160479424, 2.854919492910132, 1.5721815431040103, 0.9669775775848023, 1.4627247372367576, 2.421704063183064, 2.148907626832586, 1.1516699331638203, 1.3439130777633106], \"mode\": \"markers\", \"marker\": {\"size\": \"13\"}, \"name\": \"Sample Data\"}], {\"xaxis\": {\"title\": \"Variable X\"}, \"yaxis\": {\"title\": \"Variable Y\"}}, {\"showLink\": true, \"linkText\": \"Export to plot.ly\"})});</script>"
      ]
     },
     "metadata": {},
     "output_type": "display_data"
    }
   ],
   "source": [
    "trace = Scatter(\n",
    "    x=X,\n",
    "    y=Y,\n",
    "    mode='markers',\n",
    "    marker=dict(size='13'),\n",
    "    name=\"Sample Data\",\n",
    ")\n",
    "\n",
    "fig = dict(data=[trace], layout={})\n",
    "fig['layout']['xaxis'] = dict(title='Variable X')\n",
    "fig['layout']['yaxis'] = dict(title='Variable Y')\n",
    "\n",
    "iplot(fig)"
   ]
  },
  {
   "cell_type": "markdown",
   "metadata": {},
   "source": [
    "Maintenant nous créons la matrice des observations "
   ]
  },
  {
   "cell_type": "code",
   "execution_count": 8,
   "metadata": {
    "collapsed": true
   },
   "outputs": [],
   "source": [
    "M = np.ones([len(X),2])\n",
    "M[:,1] = X"
   ]
  },
  {
   "cell_type": "code",
   "execution_count": 9,
   "metadata": {},
   "outputs": [
    {
     "data": {
      "text/plain": [
       "array([[ 1.        ,  0.53546543],\n",
       "       [ 1.        ,  0.09271373],\n",
       "       [ 1.        ,  0.90643179],\n",
       "       [ 1.        ,  0.44201507],\n",
       "       [ 1.        ,  0.00937243],\n",
       "       [ 1.        ,  0.271793  ],\n",
       "       [ 1.        ,  0.7124593 ],\n",
       "       [ 1.        ,  0.6520239 ],\n",
       "       [ 1.        ,  0.01958766],\n",
       "       [ 1.        ,  0.26199474]])"
      ]
     },
     "execution_count": 9,
     "metadata": {},
     "output_type": "execute_result"
    }
   ],
   "source": [
    "M"
   ]
  },
  {
   "cell_type": "markdown",
   "metadata": {},
   "source": [
    "et nous résolvons le problème aux moindres carrés"
   ]
  },
  {
   "cell_type": "markdown",
   "metadata": {},
   "source": [
    "$$ min_{\\alpha, \\beta} ||MA-Y||_2^2$$"
   ]
  },
  {
   "cell_type": "markdown",
   "metadata": {},
   "source": [
    "où $A = [\\alpha,\\beta]$"
   ]
  },
  {
   "cell_type": "code",
   "execution_count": 10,
   "metadata": {
    "collapsed": true
   },
   "outputs": [],
   "source": [
    "a, b = np.linalg.lstsq(M,Y)[0]"
   ]
  },
  {
   "cell_type": "code",
   "execution_count": 11,
   "metadata": {},
   "outputs": [
    {
     "data": {
      "text/plain": [
       "1.0434202675624178"
      ]
     },
     "execution_count": 11,
     "metadata": {},
     "output_type": "execute_result"
    }
   ],
   "source": [
    "a"
   ]
  },
  {
   "cell_type": "code",
   "execution_count": 12,
   "metadata": {},
   "outputs": [
    {
     "data": {
      "text/plain": [
       "1.8503016680296251"
      ]
     },
     "execution_count": 12,
     "metadata": {},
     "output_type": "execute_result"
    }
   ],
   "source": [
    "b"
   ]
  },
  {
   "cell_type": "markdown",
   "metadata": {},
   "source": [
    "*Note* : On utilise ici la méthode `lstsq` de `numpy` qui est précisément faite pour les problèmes aux moindres carrés. Il s'agit d'une méthode `python` qui appelle en réalité des routines numériques stables et éprouvées (ici la SVD de la matrice `M`) de la librairie LAPACK (en C ou Fortran)."
   ]
  },
  {
   "cell_type": "markdown",
   "metadata": {},
   "source": [
    "On trace maintenant la solution."
   ]
  },
  {
   "cell_type": "code",
   "execution_count": 13,
   "metadata": {},
   "outputs": [
    {
     "data": {
      "application/vnd.plotly.v1+json": {
       "data": [
        {
         "marker": {
          "size": "13"
         },
         "mode": "markers",
         "name": "Sample Data",
         "type": "scatter",
         "x": [
          0.5354654250763787,
          0.0927137260028641,
          0.9064317864915592,
          0.4420150652140937,
          0.009372428217464646,
          0.27179299681319335,
          0.7124592953235128,
          0.6520238972527373,
          0.019587658745970238,
          0.2619947407201384
         ],
         "y": [
          2.1574231633900105,
          1.5770946160479424,
          2.854919492910132,
          1.5721815431040103,
          0.9669775775848023,
          1.4627247372367576,
          2.421704063183064,
          2.148907626832586,
          1.1516699331638203,
          1.3439130777633106
         ]
        },
        {
         "line": {
          "width": 4
         },
         "mode": "lines",
         "name": "Ordinary Least Squares",
         "type": "scatter",
         "x": [
          0,
          0.5,
          1
         ],
         "y": [
          1.0434202675624178,
          1.9685711015772305,
          2.893721935592043
         ]
        }
       ],
       "layout": {
        "xaxis": {
         "title": "Variable X"
        },
        "yaxis": {
         "title": "Variable Y"
        }
       }
      },
      "text/html": [
       "<div id=\"90d8b9c9-52c2-47ff-8eab-741f6c24002e\" style=\"height: 525px; width: 100%;\" class=\"plotly-graph-div\"></div><script type=\"text/javascript\">require([\"plotly\"], function(Plotly) { window.PLOTLYENV=window.PLOTLYENV || {};window.PLOTLYENV.BASE_URL=\"https://plot.ly\";Plotly.newPlot(\"90d8b9c9-52c2-47ff-8eab-741f6c24002e\", [{\"type\": \"scatter\", \"x\": [0.5354654250763787, 0.0927137260028641, 0.9064317864915592, 0.4420150652140937, 0.009372428217464646, 0.27179299681319335, 0.7124592953235128, 0.6520238972527373, 0.019587658745970238, 0.2619947407201384], \"y\": [2.1574231633900105, 1.5770946160479424, 2.854919492910132, 1.5721815431040103, 0.9669775775848023, 1.4627247372367576, 2.421704063183064, 2.148907626832586, 1.1516699331638203, 1.3439130777633106], \"mode\": \"markers\", \"marker\": {\"size\": \"13\"}, \"name\": \"Sample Data\"}, {\"type\": \"scatter\", \"x\": [0.0, 0.5, 1.0], \"y\": [1.0434202675624178, 1.9685711015772305, 2.893721935592043], \"mode\": \"lines\", \"line\": {\"width\": 4}, \"name\": \"Ordinary Least Squares\"}], {\"xaxis\": {\"title\": \"Variable X\"}, \"yaxis\": {\"title\": \"Variable Y\"}}, {\"showLink\": true, \"linkText\": \"Export to plot.ly\"})});</script>"
      ],
      "text/vnd.plotly.v1+html": [
       "<div id=\"90d8b9c9-52c2-47ff-8eab-741f6c24002e\" style=\"height: 525px; width: 100%;\" class=\"plotly-graph-div\"></div><script type=\"text/javascript\">require([\"plotly\"], function(Plotly) { window.PLOTLYENV=window.PLOTLYENV || {};window.PLOTLYENV.BASE_URL=\"https://plot.ly\";Plotly.newPlot(\"90d8b9c9-52c2-47ff-8eab-741f6c24002e\", [{\"type\": \"scatter\", \"x\": [0.5354654250763787, 0.0927137260028641, 0.9064317864915592, 0.4420150652140937, 0.009372428217464646, 0.27179299681319335, 0.7124592953235128, 0.6520238972527373, 0.019587658745970238, 0.2619947407201384], \"y\": [2.1574231633900105, 1.5770946160479424, 2.854919492910132, 1.5721815431040103, 0.9669775775848023, 1.4627247372367576, 2.421704063183064, 2.148907626832586, 1.1516699331638203, 1.3439130777633106], \"mode\": \"markers\", \"marker\": {\"size\": \"13\"}, \"name\": \"Sample Data\"}, {\"type\": \"scatter\", \"x\": [0.0, 0.5, 1.0], \"y\": [1.0434202675624178, 1.9685711015772305, 2.893721935592043], \"mode\": \"lines\", \"line\": {\"width\": 4}, \"name\": \"Ordinary Least Squares\"}], {\"xaxis\": {\"title\": \"Variable X\"}, \"yaxis\": {\"title\": \"Variable Y\"}}, {\"showLink\": true, \"linkText\": \"Export to plot.ly\"})});</script>"
      ]
     },
     "metadata": {},
     "output_type": "display_data"
    }
   ],
   "source": [
    "x_gr = np.linspace(0,1,3)\n",
    "y_gr = b*x_gr+a\n",
    "trace = Scatter(\n",
    "    x=X,\n",
    "    y=Y,\n",
    "    mode='markers',\n",
    "    marker=dict(size='13'),\n",
    "    name=\"Sample Data\",\n",
    ")\n",
    "trace2 = Scatter(\n",
    "    x=x_gr,\n",
    "    y=y_gr,\n",
    "    mode='lines',\n",
    "    line=dict(width=4),\n",
    "    name=\"Ordinary Least Squares\"\n",
    ")\n",
    "fig = dict(data=[trace,trace2], layout={})\n",
    "fig['layout']['xaxis'] = dict(title='Variable X')\n",
    "fig['layout']['yaxis'] = dict(title='Variable Y')\n",
    "\n",
    "iplot(fig)"
   ]
  },
  {
   "cell_type": "code",
   "execution_count": 19,
   "metadata": {
    "collapsed": true
   },
   "outputs": [],
   "source": [
    "import sklearn.linear_model as lm\n",
    "linreg = lm.LinearRegression()"
   ]
  },
  {
   "cell_type": "code",
   "execution_count": 20,
   "metadata": {},
   "outputs": [
    {
     "data": {
      "text/plain": [
       "['copy_X',\n",
       " 'fit',\n",
       " 'fit_intercept',\n",
       " 'get_params',\n",
       " 'n_jobs',\n",
       " 'normalize',\n",
       " 'predict',\n",
       " 'score',\n",
       " 'set_params']"
      ]
     },
     "execution_count": 20,
     "metadata": {},
     "output_type": "execute_result"
    }
   ],
   "source": [
    "listmethodinit = [method for method in dir(linreg) if not method.startswith('_')]\n",
    "listmethodinit"
   ]
  },
  {
   "cell_type": "code",
   "execution_count": 21,
   "metadata": {},
   "outputs": [
    {
     "data": {
      "text/plain": [
       "LinearRegression(copy_X=True, fit_intercept=True, n_jobs=1, normalize=False)"
      ]
     },
     "execution_count": 21,
     "metadata": {},
     "output_type": "execute_result"
    }
   ],
   "source": [
    "linreg.fit(X.reshape(-1, 1), Y.reshape(-1, 1))"
   ]
  },
  {
   "cell_type": "markdown",
   "metadata": {
    "collapsed": true
   },
   "source": [
    "*Note* : `scikit-learn` tire parti du côté objet du langage Python pour le développement mais aussi pour l'*utilisation*. Ainsi, en `scikit-learn` l'utilisateur sera souvent appelé à créer des instances des classes de `scikit-learn`, par exemple ici\n",
    "```python\n",
    "linreg = lm.LinearRegression()\n",
    "```\n",
    "crée une instance de la classe `LinearRegression` qui comprend à son initialisation des méthodes (par exemple `fit` pour entraîner un modèle linéaire)."
   ]
  },
  {
   "cell_type": "code",
   "execution_count": 22,
   "metadata": {},
   "outputs": [
    {
     "data": {
      "text/plain": [
       "['coef_',\n",
       " 'copy_X',\n",
       " 'fit',\n",
       " 'fit_intercept',\n",
       " 'get_params',\n",
       " 'intercept_',\n",
       " 'n_jobs',\n",
       " 'normalize',\n",
       " 'predict',\n",
       " 'rank_',\n",
       " 'score',\n",
       " 'set_params',\n",
       " 'singular_']"
      ]
     },
     "execution_count": 22,
     "metadata": {},
     "output_type": "execute_result"
    }
   ],
   "source": [
    "listmethodafterfit = [method for method in dir(linreg) if not method.startswith('_')]\n",
    "listmethodafterfit"
   ]
  },
  {
   "cell_type": "markdown",
   "metadata": {},
   "source": [
    "On constate que notre objet `linreg` comporte désormais des nouveaux attributs"
   ]
  },
  {
   "cell_type": "code",
   "execution_count": 24,
   "metadata": {},
   "outputs": [
    {
     "data": {
      "text/plain": [
       "{'coef_', 'intercept_', 'rank_', 'singular_'}"
      ]
     },
     "execution_count": 24,
     "metadata": {},
     "output_type": "execute_result"
    }
   ],
   "source": [
    "set(listmethodafterfit)-set(listmethodinit)"
   ]
  },
  {
   "cell_type": "code",
   "execution_count": 38,
   "metadata": {},
   "outputs": [
    {
     "data": {
      "text/plain": [
       "[1.8503016680296258, 1.0434202675624178]"
      ]
     },
     "execution_count": 38,
     "metadata": {},
     "output_type": "execute_result"
    }
   ],
   "source": [
    "[linreg.coef_[0][0] , linreg.intercept_[0] ]"
   ]
  },
  {
   "cell_type": "markdown",
   "metadata": {},
   "source": [
    "On constate que ce sont exactement les mêmes valeurs qu'avec la méthode `lstsq` du module `scipy`. Ce n'est pas surprenant, si on regarde le code `python` de la méthode `.fit` de la classe `LinearRegression` on trouve\n",
    "```python\n",
    "self.coef_, self._residues, self.rank_, self.singular_ = \\\n",
    "    linalg.lstsq(X, y)\n",
    "```"
   ]
  },
  {
   "cell_type": "markdown",
   "metadata": {},
   "source": [
    "Autrement dit, la méthode `.fit` ne fait ni plus ni moins que de fournir une interface simplifiée à la méthode  `lstsq`. Si par exemple, on souhaite changer la méthode LAPACK appelée, on ne pourra pas le faire depuis `scikit-learn`."
   ]
  },
  {
   "cell_type": "markdown",
   "metadata": {},
   "source": [
    "**Exercice 1** : On va chercher des modéliser des données de la forme \n",
    "$ Y = -2 X^2 + X - 1 $ en suivant les mêmes étapes que précédemment\n",
    "* Générer un échantillon de 50 points avec un bruit gaussien\n",
    "* "
   ]
  },
  {
   "cell_type": "code",
   "execution_count": null,
   "metadata": {},
   "outputs": [],
   "source": []
  },
  {
   "cell_type": "code",
   "execution_count": null,
   "metadata": {
    "collapsed": true
   },
   "outputs": [],
   "source": []
  }
 ],
 "metadata": {
  "kernelspec": {
   "display_name": "Python 3",
   "language": "python",
   "name": "python3"
  },
  "language_info": {
   "codemirror_mode": {
    "name": "ipython",
    "version": 3
   },
   "file_extension": ".py",
   "mimetype": "text/x-python",
   "name": "python",
   "nbconvert_exporter": "python",
   "pygments_lexer": "ipython3",
   "version": "3.6.3"
  }
 },
 "nbformat": 4,
 "nbformat_minor": 2
}
