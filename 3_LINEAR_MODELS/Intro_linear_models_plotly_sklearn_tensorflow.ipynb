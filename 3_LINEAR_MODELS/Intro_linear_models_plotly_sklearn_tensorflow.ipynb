{
 "cells": [
  {
   "cell_type": "markdown",
   "metadata": {},
   "source": [
    "# Introduction aux modèles linéaires de Machine Learning avec Python"
   ]
  },
  {
   "cell_type": "markdown",
   "metadata": {},
   "source": [
    "## Objectif\n",
    "Ce notebook vise à illustrer certains aspects de la construction des modèles linéaires avec et sans `scikit-learn`"
   ]
  },
  {
   "cell_type": "markdown",
   "metadata": {},
   "source": [
    "## Un exemple sans `scikit-learn`"
   ]
  },
  {
   "cell_type": "markdown",
   "metadata": {},
   "source": [
    "On va traiter un problème jouet extrêmement simple, on va chercher à modéliser la relation entre $X$ et $Y$ avec"
   ]
  },
  {
   "cell_type": "markdown",
   "metadata": {},
   "source": [
    "$$ Y = 2 \\times X + 4 $$"
   ]
  },
  {
   "cell_type": "markdown",
   "metadata": {},
   "source": [
    "Pour compliquer un peu, on va ajouter un bruit gaussien aux données de sortie (dans un premier temps)"
   ]
  },
  {
   "cell_type": "markdown",
   "metadata": {},
   "source": [
    "On commence par charger les modules nécessaires"
   ]
  },
  {
   "cell_type": "code",
   "execution_count": 1,
   "metadata": {},
   "outputs": [],
   "source": [
    "from plotly import __version__\n",
    "from plotly.offline import download_plotlyjs, init_notebook_mode, plot, iplot"
   ]
  },
  {
   "cell_type": "markdown",
   "metadata": {},
   "source": [
    "`plotly` permet de tracer des graphiques interactifs, depuis quelque temps, on peut en profiter dans les notebook Jupyter"
   ]
  },
  {
   "cell_type": "code",
   "execution_count": 2,
   "metadata": {},
   "outputs": [],
   "source": [
    "from plotly.graph_objs import Scatter, Figure, Layout"
   ]
  },
  {
   "cell_type": "code",
   "execution_count": 3,
   "metadata": {},
   "outputs": [
    {
     "data": {
      "text/html": [
       "<script>requirejs.config({paths: { 'plotly': ['https://cdn.plot.ly/plotly-latest.min']},});if(!window.Plotly) {{require(['plotly'],function(plotly) {window.Plotly=plotly;});}}</script>"
      ],
      "text/vnd.plotly.v1+html": [
       "<script>requirejs.config({paths: { 'plotly': ['https://cdn.plot.ly/plotly-latest.min']},});if(!window.Plotly) {{require(['plotly'],function(plotly) {window.Plotly=plotly;});}}</script>"
      ]
     },
     "metadata": {},
     "output_type": "display_data"
    }
   ],
   "source": [
    "init_notebook_mode(connected=True)\n",
    "import numpy as np\n",
    "X = np.random.random(10)\n",
    "Y = 2*X+1+0.2*np.random.randn(10)"
   ]
  },
  {
   "cell_type": "code",
   "execution_count": 4,
   "metadata": {},
   "outputs": [
    {
     "data": {
      "application/vnd.plotly.v1+json": {
       "data": [
        {
         "marker": {
          "size": "13"
         },
         "mode": "markers",
         "name": "Sample Data",
         "type": "scatter",
         "x": [
          0.6968565799141822,
          0.4893019605113429,
          0.8572877911457087,
          0.7624286420027315,
          0.7259886668854101,
          0.3825760229015349,
          0.4664842303246386,
          0.4053374281021632,
          0.5217961608251449,
          0.3747546339324862
         ],
         "y": [
          2.386989859469954,
          1.9399083131510855,
          2.60180063520452,
          2.7738742699789722,
          2.0479081022068035,
          1.5422226668061634,
          2.0065975215097454,
          1.8603973290976805,
          1.9278184925794566,
          1.6192107199517038
         ]
        }
       ],
       "layout": {
        "xaxis": {
         "title": "Variable X"
        },
        "yaxis": {
         "title": "Variable Y"
        }
       }
      },
      "text/html": [
       "<div id=\"375304d4-391c-4a38-a59d-de80dcc54aaf\" style=\"height: 525px; width: 100%;\" class=\"plotly-graph-div\"></div><script type=\"text/javascript\">require([\"plotly\"], function(Plotly) { window.PLOTLYENV=window.PLOTLYENV || {};window.PLOTLYENV.BASE_URL=\"https://plot.ly\";Plotly.newPlot(\"375304d4-391c-4a38-a59d-de80dcc54aaf\", [{\"name\": \"Sample Data\", \"type\": \"scatter\", \"y\": [2.386989859469954, 1.9399083131510855, 2.60180063520452, 2.7738742699789722, 2.0479081022068035, 1.5422226668061634, 2.0065975215097454, 1.8603973290976805, 1.9278184925794566, 1.6192107199517038], \"x\": [0.6968565799141822, 0.4893019605113429, 0.8572877911457087, 0.7624286420027315, 0.7259886668854101, 0.3825760229015349, 0.4664842303246386, 0.4053374281021632, 0.5217961608251449, 0.3747546339324862], \"mode\": \"markers\", \"marker\": {\"size\": \"13\"}}], {\"xaxis\": {\"title\": \"Variable X\"}, \"yaxis\": {\"title\": \"Variable Y\"}}, {\"linkText\": \"Export to plot.ly\", \"showLink\": true})});</script>"
      ],
      "text/vnd.plotly.v1+html": [
       "<div id=\"375304d4-391c-4a38-a59d-de80dcc54aaf\" style=\"height: 525px; width: 100%;\" class=\"plotly-graph-div\"></div><script type=\"text/javascript\">require([\"plotly\"], function(Plotly) { window.PLOTLYENV=window.PLOTLYENV || {};window.PLOTLYENV.BASE_URL=\"https://plot.ly\";Plotly.newPlot(\"375304d4-391c-4a38-a59d-de80dcc54aaf\", [{\"name\": \"Sample Data\", \"type\": \"scatter\", \"y\": [2.386989859469954, 1.9399083131510855, 2.60180063520452, 2.7738742699789722, 2.0479081022068035, 1.5422226668061634, 2.0065975215097454, 1.8603973290976805, 1.9278184925794566, 1.6192107199517038], \"x\": [0.6968565799141822, 0.4893019605113429, 0.8572877911457087, 0.7624286420027315, 0.7259886668854101, 0.3825760229015349, 0.4664842303246386, 0.4053374281021632, 0.5217961608251449, 0.3747546339324862], \"mode\": \"markers\", \"marker\": {\"size\": \"13\"}}], {\"xaxis\": {\"title\": \"Variable X\"}, \"yaxis\": {\"title\": \"Variable Y\"}}, {\"linkText\": \"Export to plot.ly\", \"showLink\": true})});</script>"
      ]
     },
     "metadata": {},
     "output_type": "display_data"
    }
   ],
   "source": [
    "trace = Scatter(\n",
    "    x=X,\n",
    "    y=Y,\n",
    "    mode='markers',\n",
    "    marker=dict(size='13'),\n",
    "    name=\"Sample Data\",\n",
    ")\n",
    "\n",
    "fig = dict(data=[trace], layout={})\n",
    "fig['layout']['xaxis'] = dict(title='Variable X')\n",
    "fig['layout']['yaxis'] = dict(title='Variable Y')\n",
    "\n",
    "iplot(fig)"
   ]
  },
  {
   "cell_type": "markdown",
   "metadata": {},
   "source": [
    "Maintenant nous créons la matrice des observations "
   ]
  },
  {
   "cell_type": "code",
   "execution_count": 5,
   "metadata": {},
   "outputs": [],
   "source": [
    "M = np.ones([len(X),2])\n",
    "M[:,1] = X"
   ]
  },
  {
   "cell_type": "code",
   "execution_count": 6,
   "metadata": {},
   "outputs": [
    {
     "data": {
      "text/plain": [
       "array([[1.        , 0.69685658],\n",
       "       [1.        , 0.48930196],\n",
       "       [1.        , 0.85728779],\n",
       "       [1.        , 0.76242864],\n",
       "       [1.        , 0.72598867],\n",
       "       [1.        , 0.38257602],\n",
       "       [1.        , 0.46648423],\n",
       "       [1.        , 0.40533743],\n",
       "       [1.        , 0.52179616],\n",
       "       [1.        , 0.37475463]])"
      ]
     },
     "execution_count": 6,
     "metadata": {},
     "output_type": "execute_result"
    }
   ],
   "source": [
    "M"
   ]
  },
  {
   "cell_type": "markdown",
   "metadata": {},
   "source": [
    "et nous résolvons le problème aux moindres carrés"
   ]
  },
  {
   "cell_type": "markdown",
   "metadata": {},
   "source": [
    "$$ min_{\\alpha, \\beta} ||MA-Y||_2^2$$"
   ]
  },
  {
   "cell_type": "markdown",
   "metadata": {},
   "source": [
    "où $A = [\\alpha,\\beta]$"
   ]
  },
  {
   "cell_type": "code",
   "execution_count": 7,
   "metadata": {},
   "outputs": [
    {
     "name": "stderr",
     "output_type": "stream",
     "text": [
      "D:\\bartoli\\Anaconda2\\envs\\mypython35\\lib\\site-packages\\ipykernel_launcher.py:1: FutureWarning:\n",
      "\n",
      "`rcond` parameter will change to the default of machine precision times ``max(M, N)`` where M and N are the input matrix dimensions.\n",
      "To use the future default and silence this warning we advise to pass `rcond=None`, to keep using the old, explicitly pass `rcond=-1`.\n",
      "\n"
     ]
    }
   ],
   "source": [
    "a, b = np.linalg.lstsq(M,Y)[0]"
   ]
  },
  {
   "cell_type": "code",
   "execution_count": 8,
   "metadata": {},
   "outputs": [
    {
     "data": {
      "text/plain": [
       "0.9125459826751899"
      ]
     },
     "execution_count": 8,
     "metadata": {},
     "output_type": "execute_result"
    }
   ],
   "source": [
    "a"
   ]
  },
  {
   "cell_type": "code",
   "execution_count": 9,
   "metadata": {},
   "outputs": [
    {
     "data": {
      "text/plain": [
       "2.037946679512007"
      ]
     },
     "execution_count": 9,
     "metadata": {},
     "output_type": "execute_result"
    }
   ],
   "source": [
    "b"
   ]
  },
  {
   "cell_type": "markdown",
   "metadata": {},
   "source": [
    "*Note* : On utilise ici la méthode `lstsq` de `numpy` qui est précisément faite pour les problèmes aux moindres carrés. Il s'agit d'une méthode `python` qui appelle en réalité des routines numériques stables et éprouvées (ici la SVD de la matrice `M`) de la librairie LAPACK (en C ou Fortran)."
   ]
  },
  {
   "cell_type": "markdown",
   "metadata": {},
   "source": [
    "On trace maintenant la solution."
   ]
  },
  {
   "cell_type": "code",
   "execution_count": 10,
   "metadata": {},
   "outputs": [
    {
     "data": {
      "application/vnd.plotly.v1+json": {
       "data": [
        {
         "marker": {
          "size": "13"
         },
         "mode": "markers",
         "name": "Sample Data",
         "type": "scatter",
         "x": [
          0.6968565799141822,
          0.4893019605113429,
          0.8572877911457087,
          0.7624286420027315,
          0.7259886668854101,
          0.3825760229015349,
          0.4664842303246386,
          0.4053374281021632,
          0.5217961608251449,
          0.3747546339324862
         ],
         "y": [
          2.386989859469954,
          1.9399083131510855,
          2.60180063520452,
          2.7738742699789722,
          2.0479081022068035,
          1.5422226668061634,
          2.0065975215097454,
          1.8603973290976805,
          1.9278184925794566,
          1.6192107199517038
         ]
        },
        {
         "line": {
          "width": 4
         },
         "mode": "lines",
         "name": "Ordinary Least Squares",
         "type": "scatter",
         "x": [
          0,
          0.5,
          1
         ],
         "y": [
          0.9125459826751899,
          1.9315193224311935,
          2.9504926621871967
         ]
        }
       ],
       "layout": {
        "xaxis": {
         "title": "Variable X"
        },
        "yaxis": {
         "title": "Variable Y"
        }
       }
      },
      "text/html": [
       "<div id=\"0bc5012c-139d-43a9-a2dc-081ed306441a\" style=\"height: 525px; width: 100%;\" class=\"plotly-graph-div\"></div><script type=\"text/javascript\">require([\"plotly\"], function(Plotly) { window.PLOTLYENV=window.PLOTLYENV || {};window.PLOTLYENV.BASE_URL=\"https://plot.ly\";Plotly.newPlot(\"0bc5012c-139d-43a9-a2dc-081ed306441a\", [{\"name\": \"Sample Data\", \"type\": \"scatter\", \"y\": [2.386989859469954, 1.9399083131510855, 2.60180063520452, 2.7738742699789722, 2.0479081022068035, 1.5422226668061634, 2.0065975215097454, 1.8603973290976805, 1.9278184925794566, 1.6192107199517038], \"x\": [0.6968565799141822, 0.4893019605113429, 0.8572877911457087, 0.7624286420027315, 0.7259886668854101, 0.3825760229015349, 0.4664842303246386, 0.4053374281021632, 0.5217961608251449, 0.3747546339324862], \"mode\": \"markers\", \"marker\": {\"size\": \"13\"}}, {\"name\": \"Ordinary Least Squares\", \"line\": {\"width\": 4}, \"type\": \"scatter\", \"y\": [0.9125459826751899, 1.9315193224311935, 2.9504926621871967], \"x\": [0.0, 0.5, 1.0], \"mode\": \"lines\"}], {\"xaxis\": {\"title\": \"Variable X\"}, \"yaxis\": {\"title\": \"Variable Y\"}}, {\"linkText\": \"Export to plot.ly\", \"showLink\": true})});</script>"
      ],
      "text/vnd.plotly.v1+html": [
       "<div id=\"0bc5012c-139d-43a9-a2dc-081ed306441a\" style=\"height: 525px; width: 100%;\" class=\"plotly-graph-div\"></div><script type=\"text/javascript\">require([\"plotly\"], function(Plotly) { window.PLOTLYENV=window.PLOTLYENV || {};window.PLOTLYENV.BASE_URL=\"https://plot.ly\";Plotly.newPlot(\"0bc5012c-139d-43a9-a2dc-081ed306441a\", [{\"name\": \"Sample Data\", \"type\": \"scatter\", \"y\": [2.386989859469954, 1.9399083131510855, 2.60180063520452, 2.7738742699789722, 2.0479081022068035, 1.5422226668061634, 2.0065975215097454, 1.8603973290976805, 1.9278184925794566, 1.6192107199517038], \"x\": [0.6968565799141822, 0.4893019605113429, 0.8572877911457087, 0.7624286420027315, 0.7259886668854101, 0.3825760229015349, 0.4664842303246386, 0.4053374281021632, 0.5217961608251449, 0.3747546339324862], \"mode\": \"markers\", \"marker\": {\"size\": \"13\"}}, {\"name\": \"Ordinary Least Squares\", \"line\": {\"width\": 4}, \"type\": \"scatter\", \"y\": [0.9125459826751899, 1.9315193224311935, 2.9504926621871967], \"x\": [0.0, 0.5, 1.0], \"mode\": \"lines\"}], {\"xaxis\": {\"title\": \"Variable X\"}, \"yaxis\": {\"title\": \"Variable Y\"}}, {\"linkText\": \"Export to plot.ly\", \"showLink\": true})});</script>"
      ]
     },
     "metadata": {},
     "output_type": "display_data"
    }
   ],
   "source": [
    "x_gr = np.linspace(0,1,3)\n",
    "y_gr = b*x_gr+a\n",
    "trace = Scatter(\n",
    "    x=X,\n",
    "    y=Y,\n",
    "    mode='markers',\n",
    "    marker=dict(size='13'),\n",
    "    name=\"Sample Data\",\n",
    ")\n",
    "trace2 = Scatter(\n",
    "    x=x_gr,\n",
    "    y=y_gr,\n",
    "    mode='lines',\n",
    "    line=dict(width=4),\n",
    "    name=\"Ordinary Least Squares\"\n",
    ")\n",
    "fig = dict(data=[trace,trace2], layout={})\n",
    "fig['layout']['xaxis'] = dict(title='Variable X')\n",
    "fig['layout']['yaxis'] = dict(title='Variable Y')\n",
    "\n",
    "iplot(fig)"
   ]
  },
  {
   "cell_type": "code",
   "execution_count": 11,
   "metadata": {},
   "outputs": [],
   "source": [
    "import sklearn.linear_model as lm\n",
    "linreg = lm.LinearRegression()"
   ]
  },
  {
   "cell_type": "code",
   "execution_count": 12,
   "metadata": {},
   "outputs": [
    {
     "data": {
      "text/plain": [
       "['copy_X',\n",
       " 'fit',\n",
       " 'fit_intercept',\n",
       " 'get_params',\n",
       " 'n_jobs',\n",
       " 'normalize',\n",
       " 'predict',\n",
       " 'score',\n",
       " 'set_params']"
      ]
     },
     "execution_count": 12,
     "metadata": {},
     "output_type": "execute_result"
    }
   ],
   "source": [
    "listmethodinit = [method for method in dir(linreg) if not method.startswith('_')]\n",
    "listmethodinit"
   ]
  },
  {
   "cell_type": "code",
   "execution_count": 13,
   "metadata": {},
   "outputs": [
    {
     "data": {
      "text/plain": [
       "LinearRegression(copy_X=True, fit_intercept=True, n_jobs=1, normalize=False)"
      ]
     },
     "execution_count": 13,
     "metadata": {},
     "output_type": "execute_result"
    }
   ],
   "source": [
    "linreg.fit(X.reshape(-1, 1), Y.reshape(-1, 1))"
   ]
  },
  {
   "cell_type": "markdown",
   "metadata": {
    "collapsed": true
   },
   "source": [
    "*Note* : `scikit-learn` tire parti du côté objet du langage Python pour le développement mais aussi pour l'*utilisation*. Ainsi, en `scikit-learn` l'utilisateur sera souvent appelé à créer des instances des classes de `scikit-learn`, par exemple ici\n",
    "```python\n",
    "linreg = lm.LinearRegression()\n",
    "```\n",
    "crée une instance de la classe `LinearRegression` qui comprend à son initialisation des méthodes (par exemple `fit` pour entraîner un modèle linéaire)."
   ]
  },
  {
   "cell_type": "code",
   "execution_count": 14,
   "metadata": {},
   "outputs": [
    {
     "data": {
      "text/plain": [
       "['coef_',\n",
       " 'copy_X',\n",
       " 'fit',\n",
       " 'fit_intercept',\n",
       " 'get_params',\n",
       " 'intercept_',\n",
       " 'n_jobs',\n",
       " 'normalize',\n",
       " 'predict',\n",
       " 'rank_',\n",
       " 'score',\n",
       " 'set_params',\n",
       " 'singular_']"
      ]
     },
     "execution_count": 14,
     "metadata": {},
     "output_type": "execute_result"
    }
   ],
   "source": [
    "listmethodafterfit = [method for method in dir(linreg) if not method.startswith('_')]\n",
    "listmethodafterfit"
   ]
  },
  {
   "cell_type": "markdown",
   "metadata": {},
   "source": [
    "On constate que notre objet `linreg` comporte désormais des nouveaux attributs"
   ]
  },
  {
   "cell_type": "code",
   "execution_count": 15,
   "metadata": {},
   "outputs": [
    {
     "data": {
      "text/plain": [
       "{'coef_', 'intercept_', 'rank_', 'singular_'}"
      ]
     },
     "execution_count": 15,
     "metadata": {},
     "output_type": "execute_result"
    }
   ],
   "source": [
    "set(listmethodafterfit)-set(listmethodinit)"
   ]
  },
  {
   "cell_type": "code",
   "execution_count": 16,
   "metadata": {},
   "outputs": [
    {
     "data": {
      "text/plain": [
       "[2.0379466795120087, 0.9125459826751894]"
      ]
     },
     "execution_count": 16,
     "metadata": {},
     "output_type": "execute_result"
    }
   ],
   "source": [
    "[linreg.coef_[0][0] , linreg.intercept_[0] ]"
   ]
  },
  {
   "cell_type": "markdown",
   "metadata": {},
   "source": [
    "On constate que ce sont exactement les mêmes valeurs qu'avec la méthode `lstsq` du module `scipy`. Ce n'est pas surprenant, si on regarde le code `python` de la méthode `.fit` de la classe `LinearRegression` on trouve\n",
    "```python\n",
    "self.coef_, self._residues, self.rank_, self.singular_ = \\\n",
    "    linalg.lstsq(X, y)\n",
    "```"
   ]
  },
  {
   "cell_type": "markdown",
   "metadata": {},
   "source": [
    "Autrement dit, la méthode `.fit` ne fait ni plus ni moins que de fournir une interface simplifiée à la méthode  `lstsq`. Si par exemple, on souhaite changer la méthode LAPACK appelée, on ne pourra pas le faire depuis `scikit-learn`."
   ]
  },
  {
   "cell_type": "markdown",
   "metadata": {},
   "source": [
    "**Exercice 1** : On va chercher des modéliser des données de la forme \n",
    "$ Y = -2 X^2 + X - 1 $ en suivant les mêmes étapes que précédemment\n",
    "* Générer un échantillon de 50 points avec un bruit gaussien\n",
    "* "
   ]
  },
  {
   "cell_type": "code",
   "execution_count": null,
   "metadata": {},
   "outputs": [],
   "source": []
  },
  {
   "cell_type": "code",
   "execution_count": null,
   "metadata": {
    "collapsed": true
   },
   "outputs": [],
   "source": []
  }
 ],
 "metadata": {
  "kernelspec": {
   "display_name": "Python 3",
   "language": "python",
   "name": "python3"
  },
  "language_info": {
   "codemirror_mode": {
    "name": "ipython",
    "version": 3
   },
   "file_extension": ".py",
   "mimetype": "text/x-python",
   "name": "python",
   "nbconvert_exporter": "python",
   "pygments_lexer": "ipython3",
   "version": "3.5.4"
  }
 },
 "nbformat": 4,
 "nbformat_minor": 2
}
