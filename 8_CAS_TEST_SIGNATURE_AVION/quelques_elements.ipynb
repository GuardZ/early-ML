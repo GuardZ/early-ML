{
 "cells": [
  {
   "cell_type": "code",
   "execution_count": 1,
   "metadata": {
    "collapsed": true
   },
   "outputs": [],
   "source": [
    "import pandas as pd"
   ]
  },
  {
   "cell_type": "code",
   "execution_count": 2,
   "metadata": {},
   "outputs": [],
   "source": [
    "import numpy as np"
   ]
  },
  {
   "cell_type": "markdown",
   "metadata": {},
   "source": [
    "On commence par charger les données qui sont dans un fichier .csv avec comme séparateur une ,"
   ]
  },
  {
   "cell_type": "code",
   "execution_count": 3,
   "metadata": {
    "collapsed": true
   },
   "outputs": [],
   "source": [
    "file_name=\"dispersion_10240.csv\""
   ]
  },
  {
   "cell_type": "code",
   "execution_count": 4,
   "metadata": {},
   "outputs": [],
   "source": [
    "xy_train=pd.read_csv(file_name,header=0)"
   ]
  },
  {
   "cell_type": "markdown",
   "metadata": {},
   "source": [
    "Visualisation"
   ]
  },
  {
   "cell_type": "code",
   "execution_count": 5,
   "metadata": {},
   "outputs": [
    {
     "name": "stdout",
     "output_type": "stream",
     "text": [
      "             cap      Mach     pitch    E_e_ai  power_setting     altitude  \\\n",
      "0      24.086097  0.718853  0.500835  0.913174       0.912886  1172.031220   \n",
      "1      81.358824  0.909762  6.864472  0.876810       0.884886  1026.576674   \n",
      "2      48.631552  0.800672  3.228108  0.940447       0.856886   881.122129   \n",
      "3      15.904279  0.691581  9.591744  0.904083       0.905886  1135.667584   \n",
      "4      73.177006  0.882490  5.955381  0.867719       0.877886   990.213038   \n",
      "5      40.449733  0.773399  2.319017  0.931356       0.926886   844.758493   \n",
      "6       7.722461  0.664308  8.682653  0.894992       0.898886  1099.303947   \n",
      "7      32.267915  0.746126  1.409926  0.922265       0.919886   808.394856   \n",
      "8      89.540642  0.937035  7.773562  0.885901       0.891886  1062.940311   \n",
      "9      39.705932  0.689101  7.690918  0.866893       0.863249   950.543617   \n",
      "10      6.978659  0.880010  4.054554  0.930529       0.912249   805.089071   \n",
      "11     31.524113  0.661829  6.781827  0.857802       0.856249   914.179980   \n",
      "12     88.796841  0.852738  3.145463  0.921438       0.905249  1168.725435   \n",
      "13     56.069568  0.743647  9.509100  0.885075       0.877249  1023.270889   \n",
      "14     23.342295  0.934556  5.872736  0.948711       0.926249   877.816344   \n",
      "15     80.615023  0.825465  2.236372  0.912347       0.898249  1132.361798   \n",
      "16     47.887750  0.716374  8.600009  0.875984       0.870249   986.907253   \n",
      "17     15.160477  0.907283  4.963645  0.939620       0.919249   841.452707   \n",
      "18     72.433204  0.798192  1.327281  0.903256       0.891249  1095.998162   \n",
      "19     22.598494  0.850258  1.244637  0.884248       0.862613   983.601468   \n",
      "20     79.871221  0.741167  7.608273  0.947885       0.911613   838.146922   \n",
      "21     47.143948  0.932076  3.971910  0.911521       0.883613  1092.692377   \n",
      "22     14.416675  0.822986  0.335546  0.875157       0.855613   947.237831   \n",
      "23     71.689403  0.713895  6.699182  0.938794       0.904613   801.783286   \n",
      "24      6.234857  0.795713  9.426455  0.866066       0.925613   910.874195   \n",
      "25     63.507585  0.686622  5.790091  0.929703       0.897613  1165.419650   \n",
      "26     30.780312  0.877531  2.153728  0.893339       0.869613  1019.965104   \n",
      "27     88.053039  0.768440  8.517364  0.856975       0.918613   874.510559   \n",
      "28     55.325766  0.659349  4.881000  0.920612       0.890613  1129.056013   \n",
      "29      5.491056  0.711415  4.798356  0.901604       0.861977  1053.022955   \n",
      "...          ...       ...       ...       ...            ...          ...   \n",
      "10210  70.041974  0.776923  4.735519  0.898346       0.915410  1188.450863   \n",
      "10211  37.314702  0.667832  1.099155  0.861982       0.887410  1042.996318   \n",
      "10212   4.587429  0.858741  7.462791  0.925618       0.859410   897.541772   \n",
      "10213  44.752718  0.910807  7.380147  0.906610       0.907774  1185.145078   \n",
      "10214  12.025445  0.801717  3.743783  0.870246       0.879774  1039.690533   \n",
      "10215  69.298173  0.692626  0.107419  0.933883       0.851774   894.235987   \n",
      "10216  36.570900  0.883535  6.471056  0.897519       0.900774  1148.781442   \n",
      "10217   3.843627  0.774444  2.834692  0.861155       0.872774  1003.326896   \n",
      "10218  61.116354  0.665353  9.198328  0.924792       0.921774   857.872351   \n",
      "10219  28.389082  0.856262  5.561965  0.888428       0.893774  1112.417806   \n",
      "10220  85.661809  0.747171  1.925601  0.852065       0.865774   966.963260   \n",
      "10221  52.934536  0.938080  8.289238  0.915701       0.914774   821.508715   \n",
      "10222  20.207264  0.828989  4.652874  0.879337       0.886774  1076.054169   \n",
      "10223  77.479991  0.719898  1.016510  0.942974       0.858774   930.599624   \n",
      "10224  27.645280  0.771964  0.933866  0.923965       0.907137   818.202929   \n",
      "10225  84.918007  0.662874  7.297502  0.887602       0.879137  1072.748384   \n",
      "10226  52.190735  0.853783  3.661138  0.851238       0.851137   927.293839   \n",
      "10227  19.463462  0.744692  0.024775  0.914874       0.900137  1181.839293   \n",
      "10228  76.736189  0.935601  6.388411  0.878511       0.872137  1036.384748   \n",
      "10229  44.008916  0.826510  2.752047  0.942147       0.921137   890.930202   \n",
      "10230  11.281644  0.717419  9.115684  0.905784       0.893137  1145.475657   \n",
      "10231  35.827098  0.799237  1.842957  0.933056       0.914137   854.566566   \n",
      "10232   3.099826  0.690146  8.206593  0.896693       0.886137  1109.112020   \n",
      "10233  60.372553  0.881055  4.570229  0.860329       0.858137   963.657475   \n",
      "10234  10.537842  0.933121  5.396676  0.941321       0.906501   851.260781   \n",
      "10235  35.083297  0.714940  8.123948  0.868593       0.850501   960.351690   \n",
      "10236   2.356024  0.905849  4.487585  0.932230       0.899501   814.897144   \n",
      "10237  59.628751  0.796758  0.851221  0.895866       0.871501  1069.442599   \n",
      "10238  84.174206  0.878576  3.578494  0.923139       0.892501  1178.533508   \n",
      "10239  51.446933  0.769485  9.942130  0.886775       0.864501  1033.078963   \n",
      "\n",
      "           roll       yaw  hour  model  ihaze  hbase  hr    ta   vis  clouds  \\\n",
      "0      5.779349 -7.391882    14      1      1   3000  40  25.7  50.0       0   \n",
      "1     -1.493378  5.335391    12      2      3   3000  40  10.1   9.0       0   \n",
      "2     -8.766105 -1.937337    15      2      1    450  86   6.5  25.0       1   \n",
      "3      3.961168 -9.210064    13      2      1   3000  61   2.2  30.0       0   \n",
      "4     -3.311560  3.517209    12      1      1   1250  56  24.8  30.0       1   \n",
      "5      9.415713 -3.755518    14      2      1   3000  61   6.5  40.0       0   \n",
      "6      2.142986  8.971754    13      2      3    450  74  10.9  25.0       1   \n",
      "7      7.597531 -5.573700    14      2      3   3000  62   8.2  15.0       1   \n",
      "8      0.324804  7.153572    12      1      1   3000  51  30.1  20.0       0   \n",
      "9     -8.931394  8.806465    12      1      1   3000  37  29.8  40.0       0   \n",
      "10     3.795878  1.533738    15      2      1   3000  77   2.1  35.0       0   \n",
      "11     9.250424  6.988283    12      1      3   1250  39  20.4  25.0       1   \n",
      "12     1.977697 -0.284444    14      2      2   3000  80   8.4  15.0       0   \n",
      "13    -5.295031 -7.557171    13      2      1    450  70  -0.3  12.0       1   \n",
      "14     7.432242  5.170101    15      2      3   3000  69  -0.3   3.5       0   \n",
      "15     0.159515 -2.102626    14      2      1    800  76   7.3  30.0       1   \n",
      "16    -7.113213 -9.375353    12      2      3   1250  68   6.1  18.0       1   \n",
      "17     5.614060  3.351920    15      1      2    800  69  20.1  20.0       1   \n",
      "18    -1.658667 -3.920808    14      1      3   3000  25  33.2  30.0       0   \n",
      "19     9.085135 -2.267915    13      2      1    800  74   3.3  18.0       1   \n",
      "20     1.812407 -9.540642    12      1      1   3000  50  29.6  20.0       0   \n",
      "21    -5.460320  3.186630    14      2      1    800  52  -4.7  30.0       1   \n",
      "22     7.266953 -4.086097    13      2      1    800  83   4.6  15.0       1   \n",
      "23    -0.005775  8.641176    15      1      3    450  90  15.1   3.0       1   \n",
      "24     5.448771 -5.904279    12      1      1   3000  49  24.3  30.0       0   \n",
      "25    -1.823956  6.822994    15      1      1   1250  49  27.2  40.0       1   \n",
      "26    -9.096684 -0.449733    13      1      3   3000  40  23.8  60.0       0   \n",
      "27     3.630589 -7.722461    12      1      1   3000  47  19.3  40.0       0   \n",
      "28    -3.642138  5.004812    15      1      1    800  57  24.5  25.0       1   \n",
      "29     7.101663  6.657705    14      1      1   3000  51  25.2  20.0       0   \n",
      "...         ...       ...   ...    ...    ...    ...  ..   ...   ...     ...   \n",
      "10210  5.924148  1.588379    14      1      1   3000  45  32.1  20.0       0   \n",
      "10211 -1.348579 -5.684348    12      1      1   3000  58  19.0  30.0       0   \n",
      "10212 -8.621306  7.042924    15      1      1    800  82  16.5  50.0       1   \n",
      "10213  2.122495  8.695817    14      2      3    450  87  11.4  20.0       1   \n",
      "10214 -5.150232  1.423090    13      1      1   3000  42  24.5  20.0       0   \n",
      "10215  7.577041 -5.849638    15      2      1    450  94   1.7  20.0       1   \n",
      "10216  0.304314  6.877635    14      1      1   3000  53  20.4  40.0       0   \n",
      "10217 -6.968414 -0.395092    12      2      1    450  75  -3.4  10.0       1   \n",
      "10218  5.758859 -7.667820    15      1      1   3000  63  24.8  35.0       0   \n",
      "10219 -1.513868  5.059453    14      2      2    450  82   5.5  15.0       1   \n",
      "10220 -8.786596 -2.213274    12      2      3   1250  63   9.8  20.0       1   \n",
      "10221  3.940677 -9.486001    15      2      2    800  83   9.3  15.0       1   \n",
      "10222 -3.332050  3.241271    13      1      1    800  62  19.3  30.0       1   \n",
      "10223  9.395223 -4.031456    12      1      3   3000  43  22.8  60.0       0   \n",
      "10224  0.139024 -2.378563    15      2      1    450  80  -3.3   7.0       1   \n",
      "10225 -7.133703 -9.651291    14      1      3   1750  40  32.9  15.0       1   \n",
      "10226  5.593570  3.075982    12      1      3   1250  53  23.4  20.0       1   \n",
      "10227 -1.679158 -4.196745    15      2      3    800  76   7.5  16.0       1   \n",
      "10228 -8.951885  8.530528    14      2      2   3000  45   7.6  40.0       0   \n",
      "10229  3.775388  1.257800    12      2      1    450  86   6.8   9.0       1   \n",
      "10230 -3.497339 -6.014927    15      1      1    450  90  15.3  10.0       1   \n",
      "10231  1.957206 -0.560381    12      1      2   3000  61  30.9  20.0       0   \n",
      "10232 -5.315521 -7.833109    14      2      2    450  81   2.3   9.0       1   \n",
      "10233  7.411752  4.894164    13      1      3   1750  40  32.9  15.0       1   \n",
      "10234 -1.844447  6.547057    12      1      3    450  83  20.9   8.0       1   \n",
      "10235  3.610099 -7.998398    13      1      2    450  63  25.8  30.0       1   \n",
      "10236 -3.662629  4.728875    12      2      3    800  64   1.0  15.0       1   \n",
      "10237  9.064644 -2.543853    15      2      1    450  79  10.3  25.0       1   \n",
      "10238 -5.480810  2.910693    12      2      2    800  92   4.0  10.0       1   \n",
      "10239  7.246462 -4.362034    14      1      3   3000  53  23.9  40.0       0   \n",
      "\n",
      "          IRS  \n",
      "0      110.00  \n",
      "1       86.20  \n",
      "2       63.40  \n",
      "3       94.00  \n",
      "4      191.00  \n",
      "5       52.80  \n",
      "6       77.80  \n",
      "7       56.60  \n",
      "8      220.00  \n",
      "9      153.00  \n",
      "10      37.60  \n",
      "11      94.40  \n",
      "12      15.60  \n",
      "13      79.00  \n",
      "14       4.66  \n",
      "15      98.80  \n",
      "16      76.20  \n",
      "17      53.60  \n",
      "18     138.00  \n",
      "19      90.20  \n",
      "20      99.80  \n",
      "21     165.00  \n",
      "22      73.00  \n",
      "23       3.32  \n",
      "24     200.00  \n",
      "25     102.00  \n",
      "26     162.00  \n",
      "27     206.00  \n",
      "28      79.00  \n",
      "29      67.60  \n",
      "...       ...  \n",
      "10210  116.00  \n",
      "10211   78.00  \n",
      "10212  148.00  \n",
      "10213  118.00  \n",
      "10214  120.00  \n",
      "10215   39.40  \n",
      "10216  187.00  \n",
      "10217   64.00  \n",
      "10218   86.60  \n",
      "10219   21.40  \n",
      "10220   79.00  \n",
      "10221   26.60  \n",
      "10222  146.00  \n",
      "10223   81.20  \n",
      "10224   33.00  \n",
      "10225   74.20  \n",
      "10226  122.00  \n",
      "10227   51.40  \n",
      "10228  117.00  \n",
      "10229   43.60  \n",
      "10230   56.00  \n",
      "10231   28.20  \n",
      "10232    3.36  \n",
      "10233  126.00  \n",
      "10234   50.80  \n",
      "10235   70.20  \n",
      "10236   89.40  \n",
      "10237   82.80  \n",
      "10238    2.04  \n",
      "10239  150.00  \n",
      "\n",
      "[10240 rows x 17 columns]\n"
     ]
    }
   ],
   "source": [
    "print(xy_train)"
   ]
  },
  {
   "cell_type": "markdown",
   "metadata": {},
   "source": [
    "Pour voir le format des données"
   ]
  },
  {
   "cell_type": "code",
   "execution_count": 29,
   "metadata": {},
   "outputs": [
    {
     "data": {
      "text/plain": [
       "(10240, 17)"
      ]
     },
     "execution_count": 29,
     "metadata": {},
     "output_type": "execute_result"
    }
   ],
   "source": [
    "xy_train.shape"
   ]
  },
  {
   "cell_type": "code",
   "execution_count": 82,
   "metadata": {},
   "outputs": [],
   "source": [
    "xy_train['model'] = xy_train['model'].astype('category')"
   ]
  },
  {
   "cell_type": "code",
   "execution_count": 83,
   "metadata": {},
   "outputs": [],
   "source": [
    "xy_train['ihaze'] = xy_train['ihaze'].astype('category')"
   ]
  },
  {
   "cell_type": "code",
   "execution_count": 84,
   "metadata": {},
   "outputs": [],
   "source": [
    "xy_train['clouds'] = xy_train['clouds'].astype('category')"
   ]
  },
  {
   "cell_type": "code",
   "execution_count": 85,
   "metadata": {},
   "outputs": [],
   "source": [
    "x_tot=np.array(xy_train[['cap','Mach','pitch','E_e_ai','power_setting','altitude','roll','yaw','hour','model','ihaze','hbase','hr','ta','vis','clouds']])"
   ]
  },
  {
   "cell_type": "code",
   "execution_count": 86,
   "metadata": {},
   "outputs": [],
   "source": [
    "y_tot=np.array(xy_train['IRS'])"
   ]
  },
  {
   "cell_type": "code",
   "execution_count": 91,
   "metadata": {},
   "outputs": [
    {
     "data": {
      "text/plain": [
       "(10240, 16)"
      ]
     },
     "execution_count": 91,
     "metadata": {},
     "output_type": "execute_result"
    }
   ],
   "source": [
    "x_tot.shape"
   ]
  },
  {
   "cell_type": "markdown",
   "metadata": {},
   "source": [
    "**Modèle de type régression linéaire**"
   ]
  },
  {
   "cell_type": "code",
   "execution_count": 13,
   "metadata": {},
   "outputs": [],
   "source": [
    "import sklearn.linear_model as lm\n",
    "linreg = lm.LinearRegression()"
   ]
  },
  {
   "cell_type": "code",
   "execution_count": 35,
   "metadata": {},
   "outputs": [
    {
     "data": {
      "text/plain": [
       "(10240,)"
      ]
     },
     "execution_count": 35,
     "metadata": {},
     "output_type": "execute_result"
    }
   ],
   "source": [
    "y_tot.shape"
   ]
  },
  {
   "cell_type": "markdown",
   "metadata": {},
   "source": [
    "Il faut un vecteur de type (10240,1) pour l'apprentissage, on fait un reshape"
   ]
  },
  {
   "cell_type": "code",
   "execution_count": 36,
   "metadata": {},
   "outputs": [],
   "source": [
    "y_tot=y_tot.reshape(10240,1)"
   ]
  },
  {
   "cell_type": "code",
   "execution_count": 37,
   "metadata": {},
   "outputs": [],
   "source": [
    "lr=linreg.fit(x_tot, y_tot)"
   ]
  },
  {
   "cell_type": "code",
   "execution_count": 38,
   "metadata": {},
   "outputs": [
    {
     "data": {
      "text/plain": [
       "array([[  6.75852709e-02,   2.81142049e+02,   4.52621120e+00,\n",
       "         -3.16471615e+02,   2.01746167e+02,   4.22724082e-03,\n",
       "         -1.10006515e-01,   1.48515441e-01,  -1.13772632e-01,\n",
       "         -8.43033236e+00,  -6.75100582e+00,  -5.95066781e-03,\n",
       "         -1.27890127e+00,   5.59164725e-01,   1.57504280e+00,\n",
       "          1.13068584e+01]])"
      ]
     },
     "execution_count": 38,
     "metadata": {},
     "output_type": "execute_result"
    }
   ],
   "source": [
    "lr.coef_"
   ]
  },
  {
   "cell_type": "markdown",
   "metadata": {},
   "source": [
    "Si on veut normaliser les données"
   ]
  },
  {
   "cell_type": "code",
   "execution_count": 21,
   "metadata": {},
   "outputs": [],
   "source": [
    "from sklearn import preprocessing"
   ]
  },
  {
   "cell_type": "code",
   "execution_count": 92,
   "metadata": {},
   "outputs": [
    {
     "name": "stderr",
     "output_type": "stream",
     "text": [
      "C:\\ProgramData\\Anaconda3\\lib\\site-packages\\sklearn\\utils\\validation.py:475: DataConversionWarning: Data with input dtype object was converted to float64 by the scale function.\n",
      "  warnings.warn(msg, DataConversionWarning)\n"
     ]
    }
   ],
   "source": [
    "x_scaled = preprocessing.scale(x_tot)"
   ]
  },
  {
   "cell_type": "markdown",
   "metadata": {},
   "source": [
    "Régression linéaire avec input normalisés"
   ]
  },
  {
   "cell_type": "code",
   "execution_count": 40,
   "metadata": {},
   "outputs": [],
   "source": [
    "lr=linreg.fit(x_scaled, y_tot)"
   ]
  },
  {
   "cell_type": "code",
   "execution_count": 41,
   "metadata": {},
   "outputs": [
    {
     "data": {
      "text/plain": [
       "array([[  1.75473904,  24.31135621,  13.04642825,  -9.15000029,\n",
       "          4.48917927,   0.48924662,  -0.63438045,   0.85655996,\n",
       "         -0.12742882,  -4.20558593,  -6.38972738,  -6.45509399,\n",
       "        -21.74637088,   5.70841163,  20.8014998 ,   5.52503021]])"
      ]
     },
     "execution_count": 41,
     "metadata": {},
     "output_type": "execute_result"
    }
   ],
   "source": [
    "lr.coef_"
   ]
  },
  {
   "cell_type": "markdown",
   "metadata": {},
   "source": [
    "Tracés"
   ]
  },
  {
   "cell_type": "code",
   "execution_count": 66,
   "metadata": {},
   "outputs": [
    {
     "name": "stdout",
     "output_type": "stream",
     "text": [
      "Populating the interactive namespace from numpy and matplotlib\n"
     ]
    }
   ],
   "source": [
    "%pylab inline"
   ]
  },
  {
   "cell_type": "code",
   "execution_count": 43,
   "metadata": {},
   "outputs": [
    {
     "data": {
      "text/plain": [
       "[<matplotlib.lines.Line2D at 0x27626a99da0>]"
      ]
     },
     "execution_count": 43,
     "metadata": {},
     "output_type": "execute_result"
    },
    {
     "data": {
      "image/png": "[encoded data removed]",
      "text/plain": [
       "<matplotlib.figure.Figure at 0x27625c98588>"
      ]
     },
     "metadata": {},
     "output_type": "display_data"
    }
   ],
   "source": [
    "plt.plot(lr.predict(x_scaled), y_tot,'o')"
   ]
  },
  {
   "cell_type": "markdown",
   "metadata": {},
   "source": [
    "**Modèle de type MLP**"
   ]
  },
  {
   "cell_type": "code",
   "execution_count": 128,
   "metadata": {},
   "outputs": [],
   "source": [
    "y_tot=log(y_tot)"
   ]
  },
  {
   "cell_type": "markdown",
   "metadata": {},
   "source": [
    "On sépare les données entre apprentissage et test (60%)"
   ]
  },
  {
   "cell_type": "code",
   "execution_count": 129,
   "metadata": {
    "collapsed": true
   },
   "outputs": [],
   "source": [
    "from sklearn.model_selection import train_test_split"
   ]
  },
  {
   "cell_type": "code",
   "execution_count": 130,
   "metadata": {
    "collapsed": true
   },
   "outputs": [],
   "source": [
    "x_train, x_test, y_train, y_test = train_test_split(x_scaled, y_tot, test_size=0.6)"
   ]
  },
  {
   "cell_type": "code",
   "execution_count": 131,
   "metadata": {},
   "outputs": [],
   "source": [
    "from sklearn.neural_network import MLPRegressor"
   ]
  },
  {
   "cell_type": "code",
   "execution_count": 132,
   "metadata": {},
   "outputs": [],
   "source": [
    "nnet=MLPRegressor(hidden_layer_sizes=(11,),max_iter=5000,activation='tanh',alpha=0.05,solver='lbfgs')"
   ]
  },
  {
   "cell_type": "code",
   "execution_count": 133,
   "metadata": {},
   "outputs": [
    {
     "data": {
      "text/plain": [
       "(4096,)"
      ]
     },
     "execution_count": 133,
     "metadata": {},
     "output_type": "execute_result"
    }
   ],
   "source": [
    "y_train.shape"
   ]
  },
  {
   "cell_type": "code",
   "execution_count": 134,
   "metadata": {},
   "outputs": [],
   "source": [
    "y_train=y_train.reshape(4096,)"
   ]
  },
  {
   "cell_type": "code",
   "execution_count": 135,
   "metadata": {},
   "outputs": [
    {
     "data": {
      "text/plain": [
       "(6144,)"
      ]
     },
     "execution_count": 135,
     "metadata": {},
     "output_type": "execute_result"
    }
   ],
   "source": [
    "y_test.shape"
   ]
  },
  {
   "cell_type": "code",
   "execution_count": 136,
   "metadata": {},
   "outputs": [],
   "source": [
    "y_test=y_test.reshape(6144,)"
   ]
  },
  {
   "cell_type": "code",
   "execution_count": 137,
   "metadata": {},
   "outputs": [
    {
     "data": {
      "text/plain": [
       "MLPRegressor(activation='tanh', alpha=0.05, batch_size='auto', beta_1=0.9,\n",
       "       beta_2=0.999, early_stopping=False, epsilon=1e-08,\n",
       "       hidden_layer_sizes=(11,), learning_rate='constant',\n",
       "       learning_rate_init=0.001, max_iter=5000, momentum=0.9,\n",
       "       nesterovs_momentum=True, power_t=0.5, random_state=None,\n",
       "       shuffle=True, solver='lbfgs', tol=0.0001, validation_fraction=0.1,\n",
       "       verbose=False, warm_start=False)"
      ]
     },
     "execution_count": 137,
     "metadata": {},
     "output_type": "execute_result"
    }
   ],
   "source": [
    "nnet.fit(x_train,y_train)"
   ]
  },
  {
   "cell_type": "code",
   "execution_count": 146,
   "metadata": {},
   "outputs": [
    {
     "name": "stdout",
     "output_type": "stream",
     "text": [
      "6.12330843685\n"
     ]
    }
   ],
   "source": [
    "predictions = nnet.predict(x_test)\n",
    "print(max(predictions))"
   ]
  },
  {
   "cell_type": "code",
   "execution_count": 147,
   "metadata": {},
   "outputs": [
    {
     "data": {
      "text/plain": [
       "[<matplotlib.lines.Line2D at 0x27626e6a7b8>]"
      ]
     },
     "execution_count": 147,
     "metadata": {},
     "output_type": "execute_result"
    },
    {
     "data": {
      "image/png": "[encoded data removed]",
      "text/plain": [
       "<matplotlib.figure.Figure at 0x27626b89550>"
      ]
     },
     "metadata": {},
     "output_type": "display_data"
    }
   ],
   "source": [
    "plt.plot(predictions, y_test,'o')"
   ]
  },
  {
   "cell_type": "code",
   "execution_count": 148,
   "metadata": {},
   "outputs": [
    {
     "data": {
      "text/plain": [
       "0.85254292201055981"
      ]
     },
     "execution_count": 148,
     "metadata": {},
     "output_type": "execute_result"
    }
   ],
   "source": [
    "nnet.score(x_test,y_test)"
   ]
  },
  {
   "cell_type": "markdown",
   "metadata": {},
   "source": [
    "**Exercice 1** : Tester avec d'autres paramètres"
   ]
  },
  {
   "cell_type": "code",
   "execution_count": null,
   "metadata": {},
   "outputs": [],
   "source": []
  },
  {
   "cell_type": "markdown",
   "metadata": {},
   "source": [
    "**Exercice 2** : Tester d'autres métamodèles"
   ]
  },
  {
   "cell_type": "code",
   "execution_count": null,
   "metadata": {},
   "outputs": [],
   "source": []
  },
  {
   "cell_type": "code",
   "execution_count": 149,
   "metadata": {
    "collapsed": true
   },
   "outputs": [],
   "source": [
    "file_name=\"basesvm_avions.csv\""
   ]
  },
  {
   "cell_type": "code",
   "execution_count": 159,
   "metadata": {},
   "outputs": [],
   "source": [
    "xy_classif=pd.read_csv(file_name,delimiter=';', header=None)"
   ]
  },
  {
   "cell_type": "code",
   "execution_count": 220,
   "metadata": {},
   "outputs": [
    {
     "data": {
      "text/html": [
       "<div>\n",
       "<style>\n",
       "    .dataframe thead tr:only-child th {\n",
       "        text-align: right;\n",
       "    }\n",
       "\n",
       "    .dataframe thead th {\n",
       "        text-align: left;\n",
       "    }\n",
       "\n",
       "    .dataframe tbody tr th {\n",
       "        vertical-align: top;\n",
       "    }\n",
       "</style>\n",
       "<table border=\"1\" class=\"dataframe\">\n",
       "  <thead>\n",
       "    <tr style=\"text-align: right;\">\n",
       "      <th></th>\n",
       "      <th>0</th>\n",
       "      <th>1</th>\n",
       "      <th>2</th>\n",
       "      <th>3</th>\n",
       "      <th>4</th>\n",
       "      <th>5</th>\n",
       "      <th>6</th>\n",
       "      <th>7</th>\n",
       "      <th>8</th>\n",
       "      <th>9</th>\n",
       "      <th>...</th>\n",
       "      <th>216</th>\n",
       "      <th>217</th>\n",
       "      <th>218</th>\n",
       "      <th>219</th>\n",
       "      <th>220</th>\n",
       "      <th>221</th>\n",
       "      <th>222</th>\n",
       "      <th>223</th>\n",
       "      <th>224</th>\n",
       "      <th>225</th>\n",
       "    </tr>\n",
       "  </thead>\n",
       "  <tbody>\n",
       "    <tr>\n",
       "      <th>count</th>\n",
       "      <td>30000.000000</td>\n",
       "      <td>30000.000000</td>\n",
       "      <td>30000.000000</td>\n",
       "      <td>30000.000000</td>\n",
       "      <td>30000.000000</td>\n",
       "      <td>30000.000000</td>\n",
       "      <td>30000.000000</td>\n",
       "      <td>30000.000000</td>\n",
       "      <td>30000.000000</td>\n",
       "      <td>30000.000000</td>\n",
       "      <td>...</td>\n",
       "      <td>30000.000000</td>\n",
       "      <td>30000.000000</td>\n",
       "      <td>30000.000000</td>\n",
       "      <td>30000.000000</td>\n",
       "      <td>30000.000000</td>\n",
       "      <td>30000.000000</td>\n",
       "      <td>30000.000000</td>\n",
       "      <td>30000.000000</td>\n",
       "      <td>30000.000000</td>\n",
       "      <td>30000.00000</td>\n",
       "    </tr>\n",
       "    <tr>\n",
       "      <th>mean</th>\n",
       "      <td>0.000352</td>\n",
       "      <td>0.000393</td>\n",
       "      <td>0.000449</td>\n",
       "      <td>0.000414</td>\n",
       "      <td>0.000333</td>\n",
       "      <td>0.000169</td>\n",
       "      <td>-0.000029</td>\n",
       "      <td>0.000058</td>\n",
       "      <td>0.000058</td>\n",
       "      <td>-0.000076</td>\n",
       "      <td>...</td>\n",
       "      <td>-0.000007</td>\n",
       "      <td>-0.000031</td>\n",
       "      <td>-0.000019</td>\n",
       "      <td>0.000218</td>\n",
       "      <td>0.000308</td>\n",
       "      <td>0.000255</td>\n",
       "      <td>0.000191</td>\n",
       "      <td>0.000290</td>\n",
       "      <td>0.000316</td>\n",
       "      <td>2.00000</td>\n",
       "    </tr>\n",
       "    <tr>\n",
       "      <th>std</th>\n",
       "      <td>0.155784</td>\n",
       "      <td>0.156953</td>\n",
       "      <td>0.157875</td>\n",
       "      <td>0.159004</td>\n",
       "      <td>0.160275</td>\n",
       "      <td>0.161407</td>\n",
       "      <td>0.162487</td>\n",
       "      <td>0.163626</td>\n",
       "      <td>0.164795</td>\n",
       "      <td>0.165794</td>\n",
       "      <td>...</td>\n",
       "      <td>0.176826</td>\n",
       "      <td>0.177629</td>\n",
       "      <td>0.178578</td>\n",
       "      <td>0.179497</td>\n",
       "      <td>0.180500</td>\n",
       "      <td>0.181421</td>\n",
       "      <td>0.182325</td>\n",
       "      <td>0.183243</td>\n",
       "      <td>0.184262</td>\n",
       "      <td>0.81651</td>\n",
       "    </tr>\n",
       "    <tr>\n",
       "      <th>min</th>\n",
       "      <td>-0.558000</td>\n",
       "      <td>-0.582000</td>\n",
       "      <td>-0.616000</td>\n",
       "      <td>-0.626000</td>\n",
       "      <td>-0.621000</td>\n",
       "      <td>-0.617000</td>\n",
       "      <td>-0.613000</td>\n",
       "      <td>-0.619000</td>\n",
       "      <td>-0.641000</td>\n",
       "      <td>-0.657000</td>\n",
       "      <td>...</td>\n",
       "      <td>-0.656000</td>\n",
       "      <td>-0.650000</td>\n",
       "      <td>-0.675000</td>\n",
       "      <td>-0.671000</td>\n",
       "      <td>-0.710000</td>\n",
       "      <td>-0.722000</td>\n",
       "      <td>-0.711000</td>\n",
       "      <td>-0.738000</td>\n",
       "      <td>-0.741000</td>\n",
       "      <td>1.00000</td>\n",
       "    </tr>\n",
       "    <tr>\n",
       "      <th>25%</th>\n",
       "      <td>-0.106000</td>\n",
       "      <td>-0.107000</td>\n",
       "      <td>-0.107000</td>\n",
       "      <td>-0.107000</td>\n",
       "      <td>-0.108000</td>\n",
       "      <td>-0.109000</td>\n",
       "      <td>-0.110000</td>\n",
       "      <td>-0.111000</td>\n",
       "      <td>-0.112000</td>\n",
       "      <td>-0.113000</td>\n",
       "      <td>...</td>\n",
       "      <td>-0.120000</td>\n",
       "      <td>-0.120000</td>\n",
       "      <td>-0.121000</td>\n",
       "      <td>-0.121000</td>\n",
       "      <td>-0.122000</td>\n",
       "      <td>-0.123000</td>\n",
       "      <td>-0.123000</td>\n",
       "      <td>-0.124000</td>\n",
       "      <td>-0.124000</td>\n",
       "      <td>1.00000</td>\n",
       "    </tr>\n",
       "    <tr>\n",
       "      <th>50%</th>\n",
       "      <td>0.000037</td>\n",
       "      <td>0.000065</td>\n",
       "      <td>-0.000043</td>\n",
       "      <td>-0.000135</td>\n",
       "      <td>-0.000190</td>\n",
       "      <td>-0.000356</td>\n",
       "      <td>-0.000871</td>\n",
       "      <td>-0.000814</td>\n",
       "      <td>-0.000253</td>\n",
       "      <td>-0.000279</td>\n",
       "      <td>...</td>\n",
       "      <td>-0.001260</td>\n",
       "      <td>-0.000757</td>\n",
       "      <td>-0.001105</td>\n",
       "      <td>-0.000250</td>\n",
       "      <td>-0.000861</td>\n",
       "      <td>-0.000530</td>\n",
       "      <td>-0.001145</td>\n",
       "      <td>-0.001022</td>\n",
       "      <td>-0.001235</td>\n",
       "      <td>2.00000</td>\n",
       "    </tr>\n",
       "    <tr>\n",
       "      <th>75%</th>\n",
       "      <td>0.106000</td>\n",
       "      <td>0.107000</td>\n",
       "      <td>0.107000</td>\n",
       "      <td>0.108000</td>\n",
       "      <td>0.109000</td>\n",
       "      <td>0.110000</td>\n",
       "      <td>0.111000</td>\n",
       "      <td>0.111000</td>\n",
       "      <td>0.113000</td>\n",
       "      <td>0.113000</td>\n",
       "      <td>...</td>\n",
       "      <td>0.121000</td>\n",
       "      <td>0.122000</td>\n",
       "      <td>0.121000</td>\n",
       "      <td>0.123000</td>\n",
       "      <td>0.124000</td>\n",
       "      <td>0.124000</td>\n",
       "      <td>0.124000</td>\n",
       "      <td>0.125000</td>\n",
       "      <td>0.126000</td>\n",
       "      <td>3.00000</td>\n",
       "    </tr>\n",
       "    <tr>\n",
       "      <th>max</th>\n",
       "      <td>0.635000</td>\n",
       "      <td>0.632000</td>\n",
       "      <td>0.629000</td>\n",
       "      <td>0.653000</td>\n",
       "      <td>0.676000</td>\n",
       "      <td>0.657000</td>\n",
       "      <td>0.666000</td>\n",
       "      <td>0.686000</td>\n",
       "      <td>0.681000</td>\n",
       "      <td>0.689000</td>\n",
       "      <td>...</td>\n",
       "      <td>0.760000</td>\n",
       "      <td>0.775000</td>\n",
       "      <td>0.804000</td>\n",
       "      <td>0.819000</td>\n",
       "      <td>0.816000</td>\n",
       "      <td>0.817000</td>\n",
       "      <td>0.815000</td>\n",
       "      <td>0.831000</td>\n",
       "      <td>0.823000</td>\n",
       "      <td>3.00000</td>\n",
       "    </tr>\n",
       "  </tbody>\n",
       "</table>\n",
       "<p>8 rows × 226 columns</p>\n",
       "</div>"
      ],
      "text/plain": [
       "                0             1             2             3             4    \\\n",
       "count  30000.000000  30000.000000  30000.000000  30000.000000  30000.000000   \n",
       "mean       0.000352      0.000393      0.000449      0.000414      0.000333   \n",
       "std        0.155784      0.156953      0.157875      0.159004      0.160275   \n",
       "min       -0.558000     -0.582000     -0.616000     -0.626000     -0.621000   \n",
       "25%       -0.106000     -0.107000     -0.107000     -0.107000     -0.108000   \n",
       "50%        0.000037      0.000065     -0.000043     -0.000135     -0.000190   \n",
       "75%        0.106000      0.107000      0.107000      0.108000      0.109000   \n",
       "max        0.635000      0.632000      0.629000      0.653000      0.676000   \n",
       "\n",
       "                5             6             7             8             9    \\\n",
       "count  30000.000000  30000.000000  30000.000000  30000.000000  30000.000000   \n",
       "mean       0.000169     -0.000029      0.000058      0.000058     -0.000076   \n",
       "std        0.161407      0.162487      0.163626      0.164795      0.165794   \n",
       "min       -0.617000     -0.613000     -0.619000     -0.641000     -0.657000   \n",
       "25%       -0.109000     -0.110000     -0.111000     -0.112000     -0.113000   \n",
       "50%       -0.000356     -0.000871     -0.000814     -0.000253     -0.000279   \n",
       "75%        0.110000      0.111000      0.111000      0.113000      0.113000   \n",
       "max        0.657000      0.666000      0.686000      0.681000      0.689000   \n",
       "\n",
       "          ...                216           217           218           219  \\\n",
       "count     ...       30000.000000  30000.000000  30000.000000  30000.000000   \n",
       "mean      ...          -0.000007     -0.000031     -0.000019      0.000218   \n",
       "std       ...           0.176826      0.177629      0.178578      0.179497   \n",
       "min       ...          -0.656000     -0.650000     -0.675000     -0.671000   \n",
       "25%       ...          -0.120000     -0.120000     -0.121000     -0.121000   \n",
       "50%       ...          -0.001260     -0.000757     -0.001105     -0.000250   \n",
       "75%       ...           0.121000      0.122000      0.121000      0.123000   \n",
       "max       ...           0.760000      0.775000      0.804000      0.819000   \n",
       "\n",
       "                220           221           222           223           224  \\\n",
       "count  30000.000000  30000.000000  30000.000000  30000.000000  30000.000000   \n",
       "mean       0.000308      0.000255      0.000191      0.000290      0.000316   \n",
       "std        0.180500      0.181421      0.182325      0.183243      0.184262   \n",
       "min       -0.710000     -0.722000     -0.711000     -0.738000     -0.741000   \n",
       "25%       -0.122000     -0.123000     -0.123000     -0.124000     -0.124000   \n",
       "50%       -0.000861     -0.000530     -0.001145     -0.001022     -0.001235   \n",
       "75%        0.124000      0.124000      0.124000      0.125000      0.126000   \n",
       "max        0.816000      0.817000      0.815000      0.831000      0.823000   \n",
       "\n",
       "               225  \n",
       "count  30000.00000  \n",
       "mean       2.00000  \n",
       "std        0.81651  \n",
       "min        1.00000  \n",
       "25%        1.00000  \n",
       "50%        2.00000  \n",
       "75%        3.00000  \n",
       "max        3.00000  \n",
       "\n",
       "[8 rows x 226 columns]"
      ]
     },
     "execution_count": 220,
     "metadata": {},
     "output_type": "execute_result"
    }
   ],
   "source": [
    "xy_classif.describe()"
   ]
  },
  {
   "cell_type": "code",
   "execution_count": 160,
   "metadata": {},
   "outputs": [
    {
     "data": {
      "text/plain": [
       "(30000, 226)"
      ]
     },
     "execution_count": 160,
     "metadata": {},
     "output_type": "execute_result"
    }
   ],
   "source": [
    "xy_classif.shape"
   ]
  },
  {
   "cell_type": "code",
   "execution_count": 161,
   "metadata": {},
   "outputs": [
    {
     "data": {
      "text/html": [
       "<div>\n",
       "<style>\n",
       "    .dataframe thead tr:only-child th {\n",
       "        text-align: right;\n",
       "    }\n",
       "\n",
       "    .dataframe thead th {\n",
       "        text-align: left;\n",
       "    }\n",
       "\n",
       "    .dataframe tbody tr th {\n",
       "        vertical-align: top;\n",
       "    }\n",
       "</style>\n",
       "<table border=\"1\" class=\"dataframe\">\n",
       "  <thead>\n",
       "    <tr style=\"text-align: right;\">\n",
       "      <th></th>\n",
       "      <th>0</th>\n",
       "      <th>1</th>\n",
       "      <th>2</th>\n",
       "      <th>3</th>\n",
       "      <th>4</th>\n",
       "      <th>5</th>\n",
       "      <th>6</th>\n",
       "      <th>7</th>\n",
       "      <th>8</th>\n",
       "      <th>9</th>\n",
       "      <th>...</th>\n",
       "      <th>216</th>\n",
       "      <th>217</th>\n",
       "      <th>218</th>\n",
       "      <th>219</th>\n",
       "      <th>220</th>\n",
       "      <th>221</th>\n",
       "      <th>222</th>\n",
       "      <th>223</th>\n",
       "      <th>224</th>\n",
       "      <th>225</th>\n",
       "    </tr>\n",
       "  </thead>\n",
       "  <tbody>\n",
       "    <tr>\n",
       "      <th>0</th>\n",
       "      <td>0.1730</td>\n",
       "      <td>0.1600</td>\n",
       "      <td>0.1470</td>\n",
       "      <td>0.1530</td>\n",
       "      <td>0.1410</td>\n",
       "      <td>0.1600</td>\n",
       "      <td>0.1670</td>\n",
       "      <td>0.1800</td>\n",
       "      <td>0.1990</td>\n",
       "      <td>0.2100</td>\n",
       "      <td>...</td>\n",
       "      <td>0.28800</td>\n",
       "      <td>0.2910</td>\n",
       "      <td>0.2890</td>\n",
       "      <td>0.3280</td>\n",
       "      <td>0.3170</td>\n",
       "      <td>0.3240</td>\n",
       "      <td>0.3260</td>\n",
       "      <td>0.3140</td>\n",
       "      <td>0.3300</td>\n",
       "      <td>1.0</td>\n",
       "    </tr>\n",
       "    <tr>\n",
       "      <th>1</th>\n",
       "      <td>-0.0574</td>\n",
       "      <td>-0.0732</td>\n",
       "      <td>-0.0737</td>\n",
       "      <td>-0.0389</td>\n",
       "      <td>-0.0241</td>\n",
       "      <td>-0.0353</td>\n",
       "      <td>-0.0305</td>\n",
       "      <td>-0.0201</td>\n",
       "      <td>-0.0424</td>\n",
       "      <td>-0.0459</td>\n",
       "      <td>...</td>\n",
       "      <td>-0.00906</td>\n",
       "      <td>-0.0385</td>\n",
       "      <td>-0.0321</td>\n",
       "      <td>-0.0264</td>\n",
       "      <td>-0.0262</td>\n",
       "      <td>-0.0277</td>\n",
       "      <td>-0.0404</td>\n",
       "      <td>-0.0256</td>\n",
       "      <td>-0.0334</td>\n",
       "      <td>1.0</td>\n",
       "    </tr>\n",
       "    <tr>\n",
       "      <th>2</th>\n",
       "      <td>-0.1920</td>\n",
       "      <td>-0.2160</td>\n",
       "      <td>-0.2380</td>\n",
       "      <td>-0.2490</td>\n",
       "      <td>-0.2530</td>\n",
       "      <td>-0.2490</td>\n",
       "      <td>-0.2520</td>\n",
       "      <td>-0.2550</td>\n",
       "      <td>-0.2520</td>\n",
       "      <td>-0.2600</td>\n",
       "      <td>...</td>\n",
       "      <td>-0.17900</td>\n",
       "      <td>-0.1960</td>\n",
       "      <td>-0.2120</td>\n",
       "      <td>-0.2120</td>\n",
       "      <td>-0.2020</td>\n",
       "      <td>-0.1850</td>\n",
       "      <td>-0.1620</td>\n",
       "      <td>-0.1810</td>\n",
       "      <td>-0.2110</td>\n",
       "      <td>1.0</td>\n",
       "    </tr>\n",
       "    <tr>\n",
       "      <th>3</th>\n",
       "      <td>-0.0373</td>\n",
       "      <td>-0.0371</td>\n",
       "      <td>-0.0396</td>\n",
       "      <td>-0.0395</td>\n",
       "      <td>-0.0272</td>\n",
       "      <td>-0.0260</td>\n",
       "      <td>-0.0312</td>\n",
       "      <td>-0.0416</td>\n",
       "      <td>-0.0520</td>\n",
       "      <td>-0.0200</td>\n",
       "      <td>...</td>\n",
       "      <td>-0.15500</td>\n",
       "      <td>-0.1800</td>\n",
       "      <td>-0.1540</td>\n",
       "      <td>-0.1410</td>\n",
       "      <td>-0.1180</td>\n",
       "      <td>-0.1180</td>\n",
       "      <td>-0.1070</td>\n",
       "      <td>-0.1040</td>\n",
       "      <td>-0.1160</td>\n",
       "      <td>1.0</td>\n",
       "    </tr>\n",
       "    <tr>\n",
       "      <th>4</th>\n",
       "      <td>0.1430</td>\n",
       "      <td>0.1460</td>\n",
       "      <td>0.1240</td>\n",
       "      <td>0.1220</td>\n",
       "      <td>0.1310</td>\n",
       "      <td>0.1630</td>\n",
       "      <td>0.1430</td>\n",
       "      <td>0.1630</td>\n",
       "      <td>0.1600</td>\n",
       "      <td>0.1400</td>\n",
       "      <td>...</td>\n",
       "      <td>0.09830</td>\n",
       "      <td>0.1220</td>\n",
       "      <td>0.1160</td>\n",
       "      <td>0.1280</td>\n",
       "      <td>0.1100</td>\n",
       "      <td>0.0636</td>\n",
       "      <td>0.0783</td>\n",
       "      <td>0.0742</td>\n",
       "      <td>0.0864</td>\n",
       "      <td>1.0</td>\n",
       "    </tr>\n",
       "  </tbody>\n",
       "</table>\n",
       "<p>5 rows × 226 columns</p>\n",
       "</div>"
      ],
      "text/plain": [
       "      0       1       2       3       4       5       6       7       8    \\\n",
       "0  0.1730  0.1600  0.1470  0.1530  0.1410  0.1600  0.1670  0.1800  0.1990   \n",
       "1 -0.0574 -0.0732 -0.0737 -0.0389 -0.0241 -0.0353 -0.0305 -0.0201 -0.0424   \n",
       "2 -0.1920 -0.2160 -0.2380 -0.2490 -0.2530 -0.2490 -0.2520 -0.2550 -0.2520   \n",
       "3 -0.0373 -0.0371 -0.0396 -0.0395 -0.0272 -0.0260 -0.0312 -0.0416 -0.0520   \n",
       "4  0.1430  0.1460  0.1240  0.1220  0.1310  0.1630  0.1430  0.1630  0.1600   \n",
       "\n",
       "      9   ...       216     217     218     219     220     221     222  \\\n",
       "0  0.2100 ...   0.28800  0.2910  0.2890  0.3280  0.3170  0.3240  0.3260   \n",
       "1 -0.0459 ...  -0.00906 -0.0385 -0.0321 -0.0264 -0.0262 -0.0277 -0.0404   \n",
       "2 -0.2600 ...  -0.17900 -0.1960 -0.2120 -0.2120 -0.2020 -0.1850 -0.1620   \n",
       "3 -0.0200 ...  -0.15500 -0.1800 -0.1540 -0.1410 -0.1180 -0.1180 -0.1070   \n",
       "4  0.1400 ...   0.09830  0.1220  0.1160  0.1280  0.1100  0.0636  0.0783   \n",
       "\n",
       "      223     224  225  \n",
       "0  0.3140  0.3300  1.0  \n",
       "1 -0.0256 -0.0334  1.0  \n",
       "2 -0.1810 -0.2110  1.0  \n",
       "3 -0.1040 -0.1160  1.0  \n",
       "4  0.0742  0.0864  1.0  \n",
       "\n",
       "[5 rows x 226 columns]"
      ]
     },
     "execution_count": 161,
     "metadata": {},
     "output_type": "execute_result"
    }
   ],
   "source": [
    "xy_classif.head()"
   ]
  },
  {
   "cell_type": "code",
   "execution_count": 305,
   "metadata": {},
   "outputs": [],
   "source": [
    "from sklearn import svm, metrics"
   ]
  },
  {
   "cell_type": "code",
   "execution_count": 347,
   "metadata": {},
   "outputs": [],
   "source": [
    "x_tot=np.array(xy_classif[np.arange(225)])"
   ]
  },
  {
   "cell_type": "code",
   "execution_count": 348,
   "metadata": {},
   "outputs": [
    {
     "data": {
      "text/plain": [
       "(30000, 225)"
      ]
     },
     "execution_count": 348,
     "metadata": {},
     "output_type": "execute_result"
    }
   ],
   "source": [
    "x_tot.shape"
   ]
  },
  {
   "cell_type": "code",
   "execution_count": 349,
   "metadata": {},
   "outputs": [],
   "source": [
    "y_tot=np.array(xy_classif[225])"
   ]
  },
  {
   "cell_type": "code",
   "execution_count": 353,
   "metadata": {},
   "outputs": [],
   "source": [
    "x0_train=x_tot[0:500,:]\n",
    "x1_train=x_tot[10000:10500,:]\n",
    "x2_train=x_tot[20000:20500,:]\n",
    "x_train=np.concatenate((x0_train,x1_train,x2_train),axis=0)"
   ]
  },
  {
   "cell_type": "code",
   "execution_count": 355,
   "metadata": {},
   "outputs": [],
   "source": [
    "y0_train=y_tot[0:500]\n",
    "y1_train=y_tot[10000:10500]\n",
    "y2_train=y_tot[20000:20500]\n",
    "y_train=np.concatenate((y0_train,y1_train,y2_train),axis=0)"
   ]
  },
  {
   "cell_type": "code",
   "execution_count": 356,
   "metadata": {},
   "outputs": [],
   "source": [
    "x0_test=x_tot[501:1500,:]\n",
    "x1_test=x_tot[10501:11500,:]\n",
    "x2_test=x_tot[20501:21500,:]\n",
    "x_test=np.concatenate((x0_test,x1_test,x2_test),axis=0)"
   ]
  },
  {
   "cell_type": "code",
   "execution_count": 357,
   "metadata": {},
   "outputs": [],
   "source": [
    "y0_test=y_tot[501:1500]\n",
    "y1_test=y_tot[10501:11500]\n",
    "y2_test=y_tot[20501:21500]\n",
    "y_test=np.concatenate((y0_test,y1_test,y2_test),axis=0)"
   ]
  },
  {
   "cell_type": "code",
   "execution_count": 358,
   "metadata": {},
   "outputs": [
    {
     "data": {
      "text/plain": [
       "(1500,)"
      ]
     },
     "execution_count": 358,
     "metadata": {},
     "output_type": "execute_result"
    }
   ],
   "source": [
    "y_train.shape"
   ]
  },
  {
   "cell_type": "code",
   "execution_count": 359,
   "metadata": {},
   "outputs": [],
   "source": [
    "svm_iris=svm.SVC(kernel='rbf',C=10)"
   ]
  },
  {
   "cell_type": "code",
   "execution_count": 361,
   "metadata": {},
   "outputs": [
    {
     "data": {
      "text/plain": [
       "SVC(C=10, cache_size=200, class_weight=None, coef0=0.0,\n",
       "  decision_function_shape='ovr', degree=3, gamma='auto', kernel='rbf',\n",
       "  max_iter=-1, probability=False, random_state=None, shrinking=True,\n",
       "  tol=0.001, verbose=False)"
      ]
     },
     "execution_count": 361,
     "metadata": {},
     "output_type": "execute_result"
    }
   ],
   "source": [
    "svm_iris.fit(x_train,y_train)"
   ]
  },
  {
   "cell_type": "code",
   "execution_count": 362,
   "metadata": {},
   "outputs": [],
   "source": [
    "y_pred=svm_iris.predict(x_test)"
   ]
  },
  {
   "cell_type": "code",
   "execution_count": 363,
   "metadata": {},
   "outputs": [
    {
     "name": "stdout",
     "output_type": "stream",
     "text": [
      "Confusion matrix:\n",
      "[[990   7   2]\n",
      " [ 53 820 126]\n",
      " [  4   2 993]]\n"
     ]
    }
   ],
   "source": [
    "cm = metrics.confusion_matrix(y_test, y_pred)\n",
    "print(\"Confusion matrix:\\n%s\" % cm)"
   ]
  },
  {
   "cell_type": "code",
   "execution_count": null,
   "metadata": {},
   "outputs": [],
   "source": []
  }
 ],
 "metadata": {
  "kernelspec": {
   "display_name": "Python 3",
   "language": "python",
   "name": "python3"
  },
  "language_info": {
   "codemirror_mode": {
    "name": "ipython",
    "version": 3
   },
   "file_extension": ".py",
   "mimetype": "text/x-python",
   "name": "python",
   "nbconvert_exporter": "python",
   "pygments_lexer": "ipython3",
   "version": "3.6.3"
  }
 },
 "nbformat": 4,
 "nbformat_minor": 2
}
